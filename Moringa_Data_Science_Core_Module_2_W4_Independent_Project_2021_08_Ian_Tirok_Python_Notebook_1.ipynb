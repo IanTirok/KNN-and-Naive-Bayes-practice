{
  "nbformat": 4,
  "nbformat_minor": 0,
  "metadata": {
    "colab": {
      "name": "Moringa_Data_Science_Core_Module_2_W4_Independent_Project_2021_08_Ian_Tirok_Python_Notebook_1.ipynb",
      "provenance": [],
      "collapsed_sections": [
        "zn72w6Ge_NQu",
        "RGAKiF4h2KZM",
        "waFhWzVftU0u"
      ],
      "toc_visible": true,
      "mount_file_id": "1yFJ0glvEMr5HMzed8lPoj4gYSyP8xlzh",
      "authorship_tag": "ABX9TyPzFNLnAxACNs0SdHQgQyvA",
      "include_colab_link": true
    },
    "kernelspec": {
      "name": "python3",
      "display_name": "Python 3"
    },
    "language_info": {
      "name": "python"
    }
  },
  "cells": [
    {
      "cell_type": "markdown",
      "metadata": {
        "id": "view-in-github",
        "colab_type": "text"
      },
      "source": [
        "<a href=\"https://colab.research.google.com/github/IanTirok/KNN-and-Naive-Bayes-practice/blob/main/Moringa_Data_Science_Core_Module_2_W4_Independent_Project_2021_08_Ian_Tirok_Python_Notebook_1.ipynb\" target=\"_parent\"><img src=\"https://colab.research.google.com/assets/colab-badge.svg\" alt=\"Open In Colab\"/></a>"
      ]
    },
    {
      "cell_type": "markdown",
      "metadata": {
        "id": "9hTe6SoIf7Rs"
      },
      "source": [
        "## 1. Defining the Question"
      ]
    },
    {
      "cell_type": "markdown",
      "metadata": {
        "id": "LddAk0sggFzA"
      },
      "source": [
        "### Understanding the Context"
      ]
    },
    {
      "cell_type": "markdown",
      "metadata": {
        "id": "0coGZHBXgMJs"
      },
      "source": [
        "The RMS Titanic was a luxury British steamship that sank in the early hours of April,15 1912 after striking an iceberg leading to the deaths of more than 1500 passengers and crew. Of the 2240 passengers and crew on board, more than 1500 lost their lives in the disaster. \n",
        "\n",
        "The Titanic started its maiden voyage from Southampton, England on April,10, 1912. After stops in Cherbough, France and Queenstown, Ireland, the ship set sail for New York with 2,240 passengers and crew. The ship had high-ranking officials, wealthy industrialists, dignitaries and celebrities. 706 people survived the sinking of the Titanic. \n"
      ]
    },
    {
      "cell_type": "markdown",
      "metadata": {
        "id": "_0VU8r75nB-r"
      },
      "source": [
        "### Specifying the Question"
      ]
    },
    {
      "cell_type": "markdown",
      "metadata": {
        "id": "WXA-MbbSnFm1"
      },
      "source": [
        "I will be using the K-Nearest Neighbors for my analysis. I will us grid search cv to improve the accuracy of the base model through different metrics used such as the minkowski and the manhattan.\n",
        "\n",
        "While there was some element of luck involved in surviving it seems some groups of people were more likely to survive than others. "
      ]
    },
    {
      "cell_type": "markdown",
      "metadata": {
        "id": "COMd1LxNYnMv"
      },
      "source": [
        "### Metrics for Success"
      ]
    },
    {
      "cell_type": "markdown",
      "metadata": {
        "id": "OZKl_gTJYsft"
      },
      "source": [
        "The metric of success for this project is the model accuracy. The model accuracy shows how well a particular model predicts the dependent variable when tested after training it. The accuracy will be derived using the accuracy score. An accuracy that is low shows our model fails to accurately predict the dependent variable and the data may be underfit while an accuracy of 1 is not good either since the model is overfitted. In this project, my aim is to achieve an accuracy of at least 80%."
      ]
    },
    {
      "cell_type": "markdown",
      "metadata": {
        "id": "mGritMrXancN"
      },
      "source": [
        "### The Experimental Design"
      ]
    },
    {
      "cell_type": "markdown",
      "metadata": {
        "id": "76onxozxasTj"
      },
      "source": [
        "The experimental design for this project is as follows:\n",
        "\n",
        "\n",
        "*   Loading the libraries and dataset\n",
        "*   Data cleaning and preparation\n",
        "*   Performing the Univariate analysis\n",
        "*   Performing the Bivariate analysis\n",
        "*   Performing the Multivariate analysis\n",
        "*   Applying the K - Nearest Neighbor algorithms\n",
        "*   Applying the GridSearch CV to test through different parameters\n",
        "*   Making predictions using the different models that I've created\n",
        "*   Assesing the accuracy of the models created\n",
        "*   Making conclusions and challenging the solution\n",
        "\n",
        "\n"
      ]
    },
    {
      "cell_type": "markdown",
      "metadata": {
        "id": "iUNbvIvnT7ep"
      },
      "source": [
        "## 2. Reading the Data"
      ]
    },
    {
      "cell_type": "code",
      "metadata": {
        "id": "lsNLATbPKQju"
      },
      "source": [
        "import pandas as pd\n",
        "pd.options.display.float_format = \"{:.2f}\".format\n",
        "import numpy as np\n",
        "import matplotlib.pyplot as plt\n",
        "import seaborn as sns\n",
        "from sklearn.model_selection import train_test_split\n",
        "from sklearn.neighbors import KNeighborsRegressor\n",
        "from sklearn.linear_model import Ridge\n",
        "from sklearn.linear_model import ElasticNet\n",
        "from sklearn.discriminant_analysis import LinearDiscriminantAnalysis as lda\n",
        "from sklearn.linear_model import LinearRegression\n",
        "from sklearn.metrics import r2_score\n",
        "from sklearn import metrics\n",
        "from sklearn.ensemble import RandomForestClassifier\n",
        "from sklearn.neighbors import KNeighborsClassifier\n",
        "from sklearn.ensemble import GradientBoostingClassifier\n",
        "from sklearn import metrics\n",
        "from sklearn.svm import SVC\n",
        "from sklearn.metrics import confusion_matrix,accuracy_score, classification_report\n",
        "from sklearn.preprocessing import StandardScaler\n",
        "from sklearn.tree import DecisionTreeRegressor\n",
        "from sklearn.svm import SVR\n",
        "from sklearn.model_selection import GridSearchCV\n",
        "from sklearn import linear_model\n",
        "from sklearn.linear_model import Lasso\n",
        "from sklearn.preprocessing import PolynomialFeatures\n",
        "import statsmodels.regression.quantile_regression as quant\n",
        "import scipy as sp\n",
        "import warnings\n",
        "from sklearn.ensemble import AdaBoostClassifier\n",
        "from sklearn.tree import DecisionTreeClassifier\n",
        "warnings.filterwarnings('ignore')\n",
        "\n",
        "from sklearn.preprocessing import LabelEncoder\n",
        "lb=LabelEncoder()"
      ],
      "execution_count": null,
      "outputs": []
    },
    {
      "cell_type": "code",
      "metadata": {
        "id": "XJn2KjW-WMlG"
      },
      "source": [
        "# Loading the Train Data from the source i.e. csv\n",
        "# ---\n",
        "source = '/content/drive/MyDrive/Core Module 2 Wk 4 IP/train (5).csv'\n",
        "# ---\n",
        "#\n",
        "\n",
        "df = pd.read_csv(source)\n",
        "df = df.set_index('PassengerId')"
      ],
      "execution_count": null,
      "outputs": []
    },
    {
      "cell_type": "code",
      "metadata": {
        "id": "16xriVQo19F3"
      },
      "source": [
        "# Loading the Test Data from the source i.e. csv\n",
        "# ---\n",
        "source = '/content/drive/MyDrive/Core Module 2 Wk 4 IP/test (1).csv'\n",
        "# ---\n",
        "#\n",
        "\n",
        "test = pd.read_csv(source)\n",
        "test = test.set_index('PassengerId')"
      ],
      "execution_count": null,
      "outputs": []
    },
    {
      "cell_type": "markdown",
      "metadata": {
        "id": "zn72w6Ge_NQu"
      },
      "source": [
        "## 3. Checking the Data"
      ]
    },
    {
      "cell_type": "markdown",
      "metadata": {
        "id": "b1kaCfGgXTvw"
      },
      "source": [
        "###*Train dataset*"
      ]
    },
    {
      "cell_type": "code",
      "metadata": {
        "colab": {
          "base_uri": "https://localhost:8080/"
        },
        "id": "pCv2U1mP_7FV",
        "outputId": "cd32a507-0297-4915-885c-bd9152c787f9"
      },
      "source": [
        "df.shape"
      ],
      "execution_count": null,
      "outputs": [
        {
          "output_type": "execute_result",
          "data": {
            "text/plain": [
              "(891, 11)"
            ]
          },
          "metadata": {
            "tags": []
          },
          "execution_count": 89
        }
      ]
    },
    {
      "cell_type": "code",
      "metadata": {
        "colab": {
          "base_uri": "https://localhost:8080/"
        },
        "id": "uWxAZgAZ_5KD",
        "outputId": "29fa5946-1a83-4c19-f839-720ecbfcfa23"
      },
      "source": [
        "df.info()"
      ],
      "execution_count": null,
      "outputs": [
        {
          "output_type": "stream",
          "text": [
            "<class 'pandas.core.frame.DataFrame'>\n",
            "Int64Index: 891 entries, 1 to 891\n",
            "Data columns (total 11 columns):\n",
            " #   Column    Non-Null Count  Dtype  \n",
            "---  ------    --------------  -----  \n",
            " 0   Survived  891 non-null    int64  \n",
            " 1   Pclass    891 non-null    int64  \n",
            " 2   Name      891 non-null    object \n",
            " 3   Sex       891 non-null    object \n",
            " 4   Age       714 non-null    float64\n",
            " 5   SibSp     891 non-null    int64  \n",
            " 6   Parch     891 non-null    int64  \n",
            " 7   Ticket    891 non-null    object \n",
            " 8   Fare      891 non-null    float64\n",
            " 9   Cabin     204 non-null    object \n",
            " 10  Embarked  889 non-null    object \n",
            "dtypes: float64(2), int64(4), object(5)\n",
            "memory usage: 83.5+ KB\n"
          ],
          "name": "stdout"
        }
      ]
    },
    {
      "cell_type": "code",
      "metadata": {
        "colab": {
          "base_uri": "https://localhost:8080/",
          "height": 236
        },
        "id": "cLOjJs2B_ZGI",
        "outputId": "b14cda49-40e0-4385-a632-dfb9bacabfc0"
      },
      "source": [
        "df.head()"
      ],
      "execution_count": null,
      "outputs": [
        {
          "output_type": "execute_result",
          "data": {
            "text/html": [
              "<div>\n",
              "<style scoped>\n",
              "    .dataframe tbody tr th:only-of-type {\n",
              "        vertical-align: middle;\n",
              "    }\n",
              "\n",
              "    .dataframe tbody tr th {\n",
              "        vertical-align: top;\n",
              "    }\n",
              "\n",
              "    .dataframe thead th {\n",
              "        text-align: right;\n",
              "    }\n",
              "</style>\n",
              "<table border=\"1\" class=\"dataframe\">\n",
              "  <thead>\n",
              "    <tr style=\"text-align: right;\">\n",
              "      <th></th>\n",
              "      <th>Survived</th>\n",
              "      <th>Pclass</th>\n",
              "      <th>Name</th>\n",
              "      <th>Sex</th>\n",
              "      <th>Age</th>\n",
              "      <th>SibSp</th>\n",
              "      <th>Parch</th>\n",
              "      <th>Ticket</th>\n",
              "      <th>Fare</th>\n",
              "      <th>Cabin</th>\n",
              "      <th>Embarked</th>\n",
              "    </tr>\n",
              "    <tr>\n",
              "      <th>PassengerId</th>\n",
              "      <th></th>\n",
              "      <th></th>\n",
              "      <th></th>\n",
              "      <th></th>\n",
              "      <th></th>\n",
              "      <th></th>\n",
              "      <th></th>\n",
              "      <th></th>\n",
              "      <th></th>\n",
              "      <th></th>\n",
              "      <th></th>\n",
              "    </tr>\n",
              "  </thead>\n",
              "  <tbody>\n",
              "    <tr>\n",
              "      <th>1</th>\n",
              "      <td>0</td>\n",
              "      <td>3</td>\n",
              "      <td>Braund, Mr. Owen Harris</td>\n",
              "      <td>male</td>\n",
              "      <td>22.00</td>\n",
              "      <td>1</td>\n",
              "      <td>0</td>\n",
              "      <td>A/5 21171</td>\n",
              "      <td>7.25</td>\n",
              "      <td>NaN</td>\n",
              "      <td>S</td>\n",
              "    </tr>\n",
              "    <tr>\n",
              "      <th>2</th>\n",
              "      <td>1</td>\n",
              "      <td>1</td>\n",
              "      <td>Cumings, Mrs. John Bradley (Florence Briggs Th...</td>\n",
              "      <td>female</td>\n",
              "      <td>38.00</td>\n",
              "      <td>1</td>\n",
              "      <td>0</td>\n",
              "      <td>PC 17599</td>\n",
              "      <td>71.28</td>\n",
              "      <td>C85</td>\n",
              "      <td>C</td>\n",
              "    </tr>\n",
              "    <tr>\n",
              "      <th>3</th>\n",
              "      <td>1</td>\n",
              "      <td>3</td>\n",
              "      <td>Heikkinen, Miss. Laina</td>\n",
              "      <td>female</td>\n",
              "      <td>26.00</td>\n",
              "      <td>0</td>\n",
              "      <td>0</td>\n",
              "      <td>STON/O2. 3101282</td>\n",
              "      <td>7.92</td>\n",
              "      <td>NaN</td>\n",
              "      <td>S</td>\n",
              "    </tr>\n",
              "    <tr>\n",
              "      <th>4</th>\n",
              "      <td>1</td>\n",
              "      <td>1</td>\n",
              "      <td>Futrelle, Mrs. Jacques Heath (Lily May Peel)</td>\n",
              "      <td>female</td>\n",
              "      <td>35.00</td>\n",
              "      <td>1</td>\n",
              "      <td>0</td>\n",
              "      <td>113803</td>\n",
              "      <td>53.10</td>\n",
              "      <td>C123</td>\n",
              "      <td>S</td>\n",
              "    </tr>\n",
              "    <tr>\n",
              "      <th>5</th>\n",
              "      <td>0</td>\n",
              "      <td>3</td>\n",
              "      <td>Allen, Mr. William Henry</td>\n",
              "      <td>male</td>\n",
              "      <td>35.00</td>\n",
              "      <td>0</td>\n",
              "      <td>0</td>\n",
              "      <td>373450</td>\n",
              "      <td>8.05</td>\n",
              "      <td>NaN</td>\n",
              "      <td>S</td>\n",
              "    </tr>\n",
              "  </tbody>\n",
              "</table>\n",
              "</div>"
            ],
            "text/plain": [
              "             Survived  Pclass  ... Cabin Embarked\n",
              "PassengerId                    ...               \n",
              "1                   0       3  ...   NaN        S\n",
              "2                   1       1  ...   C85        C\n",
              "3                   1       3  ...   NaN        S\n",
              "4                   1       1  ...  C123        S\n",
              "5                   0       3  ...   NaN        S\n",
              "\n",
              "[5 rows x 11 columns]"
            ]
          },
          "metadata": {
            "tags": []
          },
          "execution_count": 91
        }
      ]
    },
    {
      "cell_type": "code",
      "metadata": {
        "colab": {
          "base_uri": "https://localhost:8080/",
          "height": 236
        },
        "id": "obgA1_Yd_eb4",
        "outputId": "557f0180-0e8e-469e-963a-c5f70d961e23"
      },
      "source": [
        "df.tail()"
      ],
      "execution_count": null,
      "outputs": [
        {
          "output_type": "execute_result",
          "data": {
            "text/html": [
              "<div>\n",
              "<style scoped>\n",
              "    .dataframe tbody tr th:only-of-type {\n",
              "        vertical-align: middle;\n",
              "    }\n",
              "\n",
              "    .dataframe tbody tr th {\n",
              "        vertical-align: top;\n",
              "    }\n",
              "\n",
              "    .dataframe thead th {\n",
              "        text-align: right;\n",
              "    }\n",
              "</style>\n",
              "<table border=\"1\" class=\"dataframe\">\n",
              "  <thead>\n",
              "    <tr style=\"text-align: right;\">\n",
              "      <th></th>\n",
              "      <th>Survived</th>\n",
              "      <th>Pclass</th>\n",
              "      <th>Name</th>\n",
              "      <th>Sex</th>\n",
              "      <th>Age</th>\n",
              "      <th>SibSp</th>\n",
              "      <th>Parch</th>\n",
              "      <th>Ticket</th>\n",
              "      <th>Fare</th>\n",
              "      <th>Cabin</th>\n",
              "      <th>Embarked</th>\n",
              "    </tr>\n",
              "    <tr>\n",
              "      <th>PassengerId</th>\n",
              "      <th></th>\n",
              "      <th></th>\n",
              "      <th></th>\n",
              "      <th></th>\n",
              "      <th></th>\n",
              "      <th></th>\n",
              "      <th></th>\n",
              "      <th></th>\n",
              "      <th></th>\n",
              "      <th></th>\n",
              "      <th></th>\n",
              "    </tr>\n",
              "  </thead>\n",
              "  <tbody>\n",
              "    <tr>\n",
              "      <th>887</th>\n",
              "      <td>0</td>\n",
              "      <td>2</td>\n",
              "      <td>Montvila, Rev. Juozas</td>\n",
              "      <td>male</td>\n",
              "      <td>27.00</td>\n",
              "      <td>0</td>\n",
              "      <td>0</td>\n",
              "      <td>211536</td>\n",
              "      <td>13.00</td>\n",
              "      <td>NaN</td>\n",
              "      <td>S</td>\n",
              "    </tr>\n",
              "    <tr>\n",
              "      <th>888</th>\n",
              "      <td>1</td>\n",
              "      <td>1</td>\n",
              "      <td>Graham, Miss. Margaret Edith</td>\n",
              "      <td>female</td>\n",
              "      <td>19.00</td>\n",
              "      <td>0</td>\n",
              "      <td>0</td>\n",
              "      <td>112053</td>\n",
              "      <td>30.00</td>\n",
              "      <td>B42</td>\n",
              "      <td>S</td>\n",
              "    </tr>\n",
              "    <tr>\n",
              "      <th>889</th>\n",
              "      <td>0</td>\n",
              "      <td>3</td>\n",
              "      <td>Johnston, Miss. Catherine Helen \"Carrie\"</td>\n",
              "      <td>female</td>\n",
              "      <td>nan</td>\n",
              "      <td>1</td>\n",
              "      <td>2</td>\n",
              "      <td>W./C. 6607</td>\n",
              "      <td>23.45</td>\n",
              "      <td>NaN</td>\n",
              "      <td>S</td>\n",
              "    </tr>\n",
              "    <tr>\n",
              "      <th>890</th>\n",
              "      <td>1</td>\n",
              "      <td>1</td>\n",
              "      <td>Behr, Mr. Karl Howell</td>\n",
              "      <td>male</td>\n",
              "      <td>26.00</td>\n",
              "      <td>0</td>\n",
              "      <td>0</td>\n",
              "      <td>111369</td>\n",
              "      <td>30.00</td>\n",
              "      <td>C148</td>\n",
              "      <td>C</td>\n",
              "    </tr>\n",
              "    <tr>\n",
              "      <th>891</th>\n",
              "      <td>0</td>\n",
              "      <td>3</td>\n",
              "      <td>Dooley, Mr. Patrick</td>\n",
              "      <td>male</td>\n",
              "      <td>32.00</td>\n",
              "      <td>0</td>\n",
              "      <td>0</td>\n",
              "      <td>370376</td>\n",
              "      <td>7.75</td>\n",
              "      <td>NaN</td>\n",
              "      <td>Q</td>\n",
              "    </tr>\n",
              "  </tbody>\n",
              "</table>\n",
              "</div>"
            ],
            "text/plain": [
              "             Survived  Pclass  ... Cabin Embarked\n",
              "PassengerId                    ...               \n",
              "887                 0       2  ...   NaN        S\n",
              "888                 1       1  ...   B42        S\n",
              "889                 0       3  ...   NaN        S\n",
              "890                 1       1  ...  C148        C\n",
              "891                 0       3  ...   NaN        Q\n",
              "\n",
              "[5 rows x 11 columns]"
            ]
          },
          "metadata": {
            "tags": []
          },
          "execution_count": 92
        }
      ]
    },
    {
      "cell_type": "code",
      "metadata": {
        "colab": {
          "base_uri": "https://localhost:8080/",
          "height": 112
        },
        "id": "Q4sz0lz7_gAR",
        "outputId": "e37e811e-7a78-408c-bcfa-93948d743a99"
      },
      "source": [
        "df.sample()"
      ],
      "execution_count": null,
      "outputs": [
        {
          "output_type": "execute_result",
          "data": {
            "text/html": [
              "<div>\n",
              "<style scoped>\n",
              "    .dataframe tbody tr th:only-of-type {\n",
              "        vertical-align: middle;\n",
              "    }\n",
              "\n",
              "    .dataframe tbody tr th {\n",
              "        vertical-align: top;\n",
              "    }\n",
              "\n",
              "    .dataframe thead th {\n",
              "        text-align: right;\n",
              "    }\n",
              "</style>\n",
              "<table border=\"1\" class=\"dataframe\">\n",
              "  <thead>\n",
              "    <tr style=\"text-align: right;\">\n",
              "      <th></th>\n",
              "      <th>Survived</th>\n",
              "      <th>Pclass</th>\n",
              "      <th>Name</th>\n",
              "      <th>Sex</th>\n",
              "      <th>Age</th>\n",
              "      <th>SibSp</th>\n",
              "      <th>Parch</th>\n",
              "      <th>Ticket</th>\n",
              "      <th>Fare</th>\n",
              "      <th>Cabin</th>\n",
              "      <th>Embarked</th>\n",
              "    </tr>\n",
              "    <tr>\n",
              "      <th>PassengerId</th>\n",
              "      <th></th>\n",
              "      <th></th>\n",
              "      <th></th>\n",
              "      <th></th>\n",
              "      <th></th>\n",
              "      <th></th>\n",
              "      <th></th>\n",
              "      <th></th>\n",
              "      <th></th>\n",
              "      <th></th>\n",
              "      <th></th>\n",
              "    </tr>\n",
              "  </thead>\n",
              "  <tbody>\n",
              "    <tr>\n",
              "      <th>321</th>\n",
              "      <td>0</td>\n",
              "      <td>3</td>\n",
              "      <td>Dennis, Mr. Samuel</td>\n",
              "      <td>male</td>\n",
              "      <td>22.00</td>\n",
              "      <td>0</td>\n",
              "      <td>0</td>\n",
              "      <td>A/5 21172</td>\n",
              "      <td>7.25</td>\n",
              "      <td>NaN</td>\n",
              "      <td>S</td>\n",
              "    </tr>\n",
              "  </tbody>\n",
              "</table>\n",
              "</div>"
            ],
            "text/plain": [
              "             Survived  Pclass                Name  ... Fare  Cabin  Embarked\n",
              "PassengerId                                        ...                      \n",
              "321                 0       3  Dennis, Mr. Samuel  ... 7.25    NaN         S\n",
              "\n",
              "[1 rows x 11 columns]"
            ]
          },
          "metadata": {
            "tags": []
          },
          "execution_count": 93
        }
      ]
    },
    {
      "cell_type": "code",
      "metadata": {
        "colab": {
          "base_uri": "https://localhost:8080/"
        },
        "id": "btiVIqQL_pf_",
        "outputId": "4bf6aabc-194b-472a-9ef3-4b2b159af59e"
      },
      "source": [
        "df.nunique()"
      ],
      "execution_count": null,
      "outputs": [
        {
          "output_type": "execute_result",
          "data": {
            "text/plain": [
              "Survived      2\n",
              "Pclass        3\n",
              "Name        891\n",
              "Sex           2\n",
              "Age          88\n",
              "SibSp         7\n",
              "Parch         7\n",
              "Ticket      681\n",
              "Fare        248\n",
              "Cabin       147\n",
              "Embarked      3\n",
              "dtype: int64"
            ]
          },
          "metadata": {
            "tags": []
          },
          "execution_count": 94
        }
      ]
    },
    {
      "cell_type": "markdown",
      "metadata": {
        "id": "RGAKiF4h2KZM"
      },
      "source": [
        "###*Test dataset*"
      ]
    },
    {
      "cell_type": "code",
      "metadata": {
        "colab": {
          "base_uri": "https://localhost:8080/"
        },
        "id": "mp95hqar2KZQ",
        "outputId": "be095471-8625-4e96-f248-25c341a5175c"
      },
      "source": [
        "test.shape"
      ],
      "execution_count": null,
      "outputs": [
        {
          "output_type": "execute_result",
          "data": {
            "text/plain": [
              "(418, 10)"
            ]
          },
          "metadata": {
            "tags": []
          },
          "execution_count": 95
        }
      ]
    },
    {
      "cell_type": "code",
      "metadata": {
        "colab": {
          "base_uri": "https://localhost:8080/"
        },
        "id": "rZjH96Lw2KZS",
        "outputId": "784f4f6d-a44d-421f-f05a-8d3e227d9f04"
      },
      "source": [
        "test.info()"
      ],
      "execution_count": null,
      "outputs": [
        {
          "output_type": "stream",
          "text": [
            "<class 'pandas.core.frame.DataFrame'>\n",
            "Int64Index: 418 entries, 892 to 1309\n",
            "Data columns (total 10 columns):\n",
            " #   Column    Non-Null Count  Dtype  \n",
            "---  ------    --------------  -----  \n",
            " 0   Pclass    418 non-null    int64  \n",
            " 1   Name      418 non-null    object \n",
            " 2   Sex       418 non-null    object \n",
            " 3   Age       332 non-null    float64\n",
            " 4   SibSp     418 non-null    int64  \n",
            " 5   Parch     418 non-null    int64  \n",
            " 6   Ticket    418 non-null    object \n",
            " 7   Fare      417 non-null    float64\n",
            " 8   Cabin     91 non-null     object \n",
            " 9   Embarked  418 non-null    object \n",
            "dtypes: float64(2), int64(3), object(5)\n",
            "memory usage: 35.9+ KB\n"
          ],
          "name": "stdout"
        }
      ]
    },
    {
      "cell_type": "code",
      "metadata": {
        "colab": {
          "base_uri": "https://localhost:8080/",
          "height": 236
        },
        "id": "QU0gwSNN2KZT",
        "outputId": "49e649e7-5187-46b2-a22a-eb103444f20b"
      },
      "source": [
        "test.head()"
      ],
      "execution_count": null,
      "outputs": [
        {
          "output_type": "execute_result",
          "data": {
            "text/html": [
              "<div>\n",
              "<style scoped>\n",
              "    .dataframe tbody tr th:only-of-type {\n",
              "        vertical-align: middle;\n",
              "    }\n",
              "\n",
              "    .dataframe tbody tr th {\n",
              "        vertical-align: top;\n",
              "    }\n",
              "\n",
              "    .dataframe thead th {\n",
              "        text-align: right;\n",
              "    }\n",
              "</style>\n",
              "<table border=\"1\" class=\"dataframe\">\n",
              "  <thead>\n",
              "    <tr style=\"text-align: right;\">\n",
              "      <th></th>\n",
              "      <th>Pclass</th>\n",
              "      <th>Name</th>\n",
              "      <th>Sex</th>\n",
              "      <th>Age</th>\n",
              "      <th>SibSp</th>\n",
              "      <th>Parch</th>\n",
              "      <th>Ticket</th>\n",
              "      <th>Fare</th>\n",
              "      <th>Cabin</th>\n",
              "      <th>Embarked</th>\n",
              "    </tr>\n",
              "    <tr>\n",
              "      <th>PassengerId</th>\n",
              "      <th></th>\n",
              "      <th></th>\n",
              "      <th></th>\n",
              "      <th></th>\n",
              "      <th></th>\n",
              "      <th></th>\n",
              "      <th></th>\n",
              "      <th></th>\n",
              "      <th></th>\n",
              "      <th></th>\n",
              "    </tr>\n",
              "  </thead>\n",
              "  <tbody>\n",
              "    <tr>\n",
              "      <th>892</th>\n",
              "      <td>3</td>\n",
              "      <td>Kelly, Mr. James</td>\n",
              "      <td>male</td>\n",
              "      <td>34.50</td>\n",
              "      <td>0</td>\n",
              "      <td>0</td>\n",
              "      <td>330911</td>\n",
              "      <td>7.83</td>\n",
              "      <td>NaN</td>\n",
              "      <td>Q</td>\n",
              "    </tr>\n",
              "    <tr>\n",
              "      <th>893</th>\n",
              "      <td>3</td>\n",
              "      <td>Wilkes, Mrs. James (Ellen Needs)</td>\n",
              "      <td>female</td>\n",
              "      <td>47.00</td>\n",
              "      <td>1</td>\n",
              "      <td>0</td>\n",
              "      <td>363272</td>\n",
              "      <td>7.00</td>\n",
              "      <td>NaN</td>\n",
              "      <td>S</td>\n",
              "    </tr>\n",
              "    <tr>\n",
              "      <th>894</th>\n",
              "      <td>2</td>\n",
              "      <td>Myles, Mr. Thomas Francis</td>\n",
              "      <td>male</td>\n",
              "      <td>62.00</td>\n",
              "      <td>0</td>\n",
              "      <td>0</td>\n",
              "      <td>240276</td>\n",
              "      <td>9.69</td>\n",
              "      <td>NaN</td>\n",
              "      <td>Q</td>\n",
              "    </tr>\n",
              "    <tr>\n",
              "      <th>895</th>\n",
              "      <td>3</td>\n",
              "      <td>Wirz, Mr. Albert</td>\n",
              "      <td>male</td>\n",
              "      <td>27.00</td>\n",
              "      <td>0</td>\n",
              "      <td>0</td>\n",
              "      <td>315154</td>\n",
              "      <td>8.66</td>\n",
              "      <td>NaN</td>\n",
              "      <td>S</td>\n",
              "    </tr>\n",
              "    <tr>\n",
              "      <th>896</th>\n",
              "      <td>3</td>\n",
              "      <td>Hirvonen, Mrs. Alexander (Helga E Lindqvist)</td>\n",
              "      <td>female</td>\n",
              "      <td>22.00</td>\n",
              "      <td>1</td>\n",
              "      <td>1</td>\n",
              "      <td>3101298</td>\n",
              "      <td>12.29</td>\n",
              "      <td>NaN</td>\n",
              "      <td>S</td>\n",
              "    </tr>\n",
              "  </tbody>\n",
              "</table>\n",
              "</div>"
            ],
            "text/plain": [
              "             Pclass  ... Embarked\n",
              "PassengerId          ...         \n",
              "892               3  ...        Q\n",
              "893               3  ...        S\n",
              "894               2  ...        Q\n",
              "895               3  ...        S\n",
              "896               3  ...        S\n",
              "\n",
              "[5 rows x 10 columns]"
            ]
          },
          "metadata": {
            "tags": []
          },
          "execution_count": 97
        }
      ]
    },
    {
      "cell_type": "code",
      "metadata": {
        "colab": {
          "base_uri": "https://localhost:8080/",
          "height": 236
        },
        "id": "ekwAM_rn2KZT",
        "outputId": "b00d1c95-245f-4265-d009-cac26a855f91"
      },
      "source": [
        "test.tail()"
      ],
      "execution_count": null,
      "outputs": [
        {
          "output_type": "execute_result",
          "data": {
            "text/html": [
              "<div>\n",
              "<style scoped>\n",
              "    .dataframe tbody tr th:only-of-type {\n",
              "        vertical-align: middle;\n",
              "    }\n",
              "\n",
              "    .dataframe tbody tr th {\n",
              "        vertical-align: top;\n",
              "    }\n",
              "\n",
              "    .dataframe thead th {\n",
              "        text-align: right;\n",
              "    }\n",
              "</style>\n",
              "<table border=\"1\" class=\"dataframe\">\n",
              "  <thead>\n",
              "    <tr style=\"text-align: right;\">\n",
              "      <th></th>\n",
              "      <th>Pclass</th>\n",
              "      <th>Name</th>\n",
              "      <th>Sex</th>\n",
              "      <th>Age</th>\n",
              "      <th>SibSp</th>\n",
              "      <th>Parch</th>\n",
              "      <th>Ticket</th>\n",
              "      <th>Fare</th>\n",
              "      <th>Cabin</th>\n",
              "      <th>Embarked</th>\n",
              "    </tr>\n",
              "    <tr>\n",
              "      <th>PassengerId</th>\n",
              "      <th></th>\n",
              "      <th></th>\n",
              "      <th></th>\n",
              "      <th></th>\n",
              "      <th></th>\n",
              "      <th></th>\n",
              "      <th></th>\n",
              "      <th></th>\n",
              "      <th></th>\n",
              "      <th></th>\n",
              "    </tr>\n",
              "  </thead>\n",
              "  <tbody>\n",
              "    <tr>\n",
              "      <th>1305</th>\n",
              "      <td>3</td>\n",
              "      <td>Spector, Mr. Woolf</td>\n",
              "      <td>male</td>\n",
              "      <td>nan</td>\n",
              "      <td>0</td>\n",
              "      <td>0</td>\n",
              "      <td>A.5. 3236</td>\n",
              "      <td>8.05</td>\n",
              "      <td>NaN</td>\n",
              "      <td>S</td>\n",
              "    </tr>\n",
              "    <tr>\n",
              "      <th>1306</th>\n",
              "      <td>1</td>\n",
              "      <td>Oliva y Ocana, Dona. Fermina</td>\n",
              "      <td>female</td>\n",
              "      <td>39.00</td>\n",
              "      <td>0</td>\n",
              "      <td>0</td>\n",
              "      <td>PC 17758</td>\n",
              "      <td>108.90</td>\n",
              "      <td>C105</td>\n",
              "      <td>C</td>\n",
              "    </tr>\n",
              "    <tr>\n",
              "      <th>1307</th>\n",
              "      <td>3</td>\n",
              "      <td>Saether, Mr. Simon Sivertsen</td>\n",
              "      <td>male</td>\n",
              "      <td>38.50</td>\n",
              "      <td>0</td>\n",
              "      <td>0</td>\n",
              "      <td>SOTON/O.Q. 3101262</td>\n",
              "      <td>7.25</td>\n",
              "      <td>NaN</td>\n",
              "      <td>S</td>\n",
              "    </tr>\n",
              "    <tr>\n",
              "      <th>1308</th>\n",
              "      <td>3</td>\n",
              "      <td>Ware, Mr. Frederick</td>\n",
              "      <td>male</td>\n",
              "      <td>nan</td>\n",
              "      <td>0</td>\n",
              "      <td>0</td>\n",
              "      <td>359309</td>\n",
              "      <td>8.05</td>\n",
              "      <td>NaN</td>\n",
              "      <td>S</td>\n",
              "    </tr>\n",
              "    <tr>\n",
              "      <th>1309</th>\n",
              "      <td>3</td>\n",
              "      <td>Peter, Master. Michael J</td>\n",
              "      <td>male</td>\n",
              "      <td>nan</td>\n",
              "      <td>1</td>\n",
              "      <td>1</td>\n",
              "      <td>2668</td>\n",
              "      <td>22.36</td>\n",
              "      <td>NaN</td>\n",
              "      <td>C</td>\n",
              "    </tr>\n",
              "  </tbody>\n",
              "</table>\n",
              "</div>"
            ],
            "text/plain": [
              "             Pclass                          Name     Sex  ...   Fare  Cabin  Embarked\n",
              "PassengerId                                                ...                        \n",
              "1305              3            Spector, Mr. Woolf    male  ...   8.05    NaN         S\n",
              "1306              1  Oliva y Ocana, Dona. Fermina  female  ... 108.90   C105         C\n",
              "1307              3  Saether, Mr. Simon Sivertsen    male  ...   7.25    NaN         S\n",
              "1308              3           Ware, Mr. Frederick    male  ...   8.05    NaN         S\n",
              "1309              3      Peter, Master. Michael J    male  ...  22.36    NaN         C\n",
              "\n",
              "[5 rows x 10 columns]"
            ]
          },
          "metadata": {
            "tags": []
          },
          "execution_count": 98
        }
      ]
    },
    {
      "cell_type": "code",
      "metadata": {
        "colab": {
          "base_uri": "https://localhost:8080/",
          "height": 112
        },
        "id": "vmA8oXoB2KZU",
        "outputId": "16947b7e-cb23-4a36-db11-a33ca19d0728"
      },
      "source": [
        "test.sample()"
      ],
      "execution_count": null,
      "outputs": [
        {
          "output_type": "execute_result",
          "data": {
            "text/html": [
              "<div>\n",
              "<style scoped>\n",
              "    .dataframe tbody tr th:only-of-type {\n",
              "        vertical-align: middle;\n",
              "    }\n",
              "\n",
              "    .dataframe tbody tr th {\n",
              "        vertical-align: top;\n",
              "    }\n",
              "\n",
              "    .dataframe thead th {\n",
              "        text-align: right;\n",
              "    }\n",
              "</style>\n",
              "<table border=\"1\" class=\"dataframe\">\n",
              "  <thead>\n",
              "    <tr style=\"text-align: right;\">\n",
              "      <th></th>\n",
              "      <th>Pclass</th>\n",
              "      <th>Name</th>\n",
              "      <th>Sex</th>\n",
              "      <th>Age</th>\n",
              "      <th>SibSp</th>\n",
              "      <th>Parch</th>\n",
              "      <th>Ticket</th>\n",
              "      <th>Fare</th>\n",
              "      <th>Cabin</th>\n",
              "      <th>Embarked</th>\n",
              "    </tr>\n",
              "    <tr>\n",
              "      <th>PassengerId</th>\n",
              "      <th></th>\n",
              "      <th></th>\n",
              "      <th></th>\n",
              "      <th></th>\n",
              "      <th></th>\n",
              "      <th></th>\n",
              "      <th></th>\n",
              "      <th></th>\n",
              "      <th></th>\n",
              "      <th></th>\n",
              "    </tr>\n",
              "  </thead>\n",
              "  <tbody>\n",
              "    <tr>\n",
              "      <th>1223</th>\n",
              "      <td>1</td>\n",
              "      <td>Dulles, Mr. William Crothers</td>\n",
              "      <td>male</td>\n",
              "      <td>39.00</td>\n",
              "      <td>0</td>\n",
              "      <td>0</td>\n",
              "      <td>PC 17580</td>\n",
              "      <td>29.70</td>\n",
              "      <td>A18</td>\n",
              "      <td>C</td>\n",
              "    </tr>\n",
              "  </tbody>\n",
              "</table>\n",
              "</div>"
            ],
            "text/plain": [
              "             Pclass                          Name   Sex  ...  Fare  Cabin  Embarked\n",
              "PassengerId                                              ...                       \n",
              "1223              1  Dulles, Mr. William Crothers  male  ... 29.70    A18         C\n",
              "\n",
              "[1 rows x 10 columns]"
            ]
          },
          "metadata": {
            "tags": []
          },
          "execution_count": 99
        }
      ]
    },
    {
      "cell_type": "code",
      "metadata": {
        "colab": {
          "base_uri": "https://localhost:8080/"
        },
        "id": "VdZ2HXQO2KZV",
        "outputId": "923e75b8-b6e1-4df1-b4e8-2f4a61585753"
      },
      "source": [
        "test.nunique()"
      ],
      "execution_count": null,
      "outputs": [
        {
          "output_type": "execute_result",
          "data": {
            "text/plain": [
              "Pclass        3\n",
              "Name        418\n",
              "Sex           2\n",
              "Age          79\n",
              "SibSp         7\n",
              "Parch         8\n",
              "Ticket      363\n",
              "Fare        169\n",
              "Cabin        76\n",
              "Embarked      3\n",
              "dtype: int64"
            ]
          },
          "metadata": {
            "tags": []
          },
          "execution_count": 100
        }
      ]
    },
    {
      "cell_type": "markdown",
      "metadata": {
        "id": "FlBMxEDBUc9B"
      },
      "source": [
        "## 4. Tidying the Dataset"
      ]
    },
    {
      "cell_type": "markdown",
      "metadata": {
        "id": "5fFtSzXZ1aRo"
      },
      "source": [
        "###*Train dataset*"
      ]
    },
    {
      "cell_type": "code",
      "metadata": {
        "colab": {
          "base_uri": "https://localhost:8080/"
        },
        "id": "MQ1StGl7DpPy",
        "outputId": "c1dee6fb-de8e-4601-f2e9-2d98e9120743"
      },
      "source": [
        "df.columns"
      ],
      "execution_count": null,
      "outputs": [
        {
          "output_type": "execute_result",
          "data": {
            "text/plain": [
              "Index(['Survived', 'Pclass', 'Name', 'Sex', 'Age', 'SibSp', 'Parch', 'Ticket',\n",
              "       'Fare', 'Cabin', 'Embarked'],\n",
              "      dtype='object')"
            ]
          },
          "metadata": {
            "tags": []
          },
          "execution_count": 101
        }
      ]
    },
    {
      "cell_type": "code",
      "metadata": {
        "colab": {
          "base_uri": "https://localhost:8080/"
        },
        "id": "5o_bQcT5W3Wz",
        "outputId": "8b825d21-d945-48d9-b63f-4c6643482da8"
      },
      "source": [
        "# Checking for Outliers\n",
        "\n",
        "\n",
        "col_names = ['Survived', 'Pclass', 'Age', 'SibSp',\n",
        "       'Parch', 'Fare']\n",
        "fig, ax = plt.subplots(len(col_names), figsize = (16,70))\n",
        "for i, col_val in enumerate(col_names):\n",
        "\n",
        "    sns.boxplot(x = df[col_val], ax=ax[i])\n",
        "    ax[i].set_title('A boxplot on the {} column'.format(col_val), fontsize=14)\n",
        "    ax[i].set_xlabel(col_val, fontsize=8)\n",
        "plt.show()"
      ],
      "execution_count": null,
      "outputs": [
        {
          "output_type": "display_data",
          "data": {
            "image/png": "[encoded data removed]",
            "text/plain": [
              "<Figure size 1152x5040 with 6 Axes>"
            ]
          },
          "metadata": {
            "tags": [],
            "needs_background": "light"
          }
        }
      ]
    },
    {
      "cell_type": "code",
      "metadata": {
        "id": "xC2N3mTQGYSZ",
        "colab": {
          "base_uri": "https://localhost:8080/"
        },
        "outputId": "88a692e1-62a0-40b0-ad45-f43bbf4e0b8b"
      },
      "source": [
        "#There seems to be very many outliers but lets count them to be sure\n",
        "\n",
        "df1 = df[['Survived', 'Pclass', 'Age', 'SibSp',\n",
        "       'Parch', 'Fare']]\n",
        "Q1 = df1.quantile(0.25)\n",
        "Q3 = df1.quantile(0.75)\n",
        "IQR = Q3 - Q1\n",
        "((df1 < (Q1 - 1.5 * IQR)) | (df1 > (Q3 + 1.5 * IQR))).sum()\n"
      ],
      "execution_count": null,
      "outputs": [
        {
          "output_type": "execute_result",
          "data": {
            "text/plain": [
              "Survived      0\n",
              "Pclass        0\n",
              "Age          11\n",
              "SibSp        46\n",
              "Parch       213\n",
              "Fare        116\n",
              "dtype: int64"
            ]
          },
          "metadata": {
            "tags": []
          },
          "execution_count": 103
        }
      ]
    },
    {
      "cell_type": "markdown",
      "metadata": {
        "id": "nOr5vxDSDq3z"
      },
      "source": [
        "There seems to be very many outliers, if we decide to drop them, the data may not be sufficient for the analysis"
      ]
    },
    {
      "cell_type": "code",
      "metadata": {
        "id": "PvCYb6dgW4yh",
        "colab": {
          "base_uri": "https://localhost:8080/"
        },
        "outputId": "a0660a92-1350-45fd-f1d1-a3950aaeae40"
      },
      "source": [
        "# Identifying the Missing Data\n",
        "#\n",
        "df.isnull().sum()"
      ],
      "execution_count": null,
      "outputs": [
        {
          "output_type": "execute_result",
          "data": {
            "text/plain": [
              "Survived      0\n",
              "Pclass        0\n",
              "Name          0\n",
              "Sex           0\n",
              "Age         177\n",
              "SibSp         0\n",
              "Parch         0\n",
              "Ticket        0\n",
              "Fare          0\n",
              "Cabin       687\n",
              "Embarked      2\n",
              "dtype: int64"
            ]
          },
          "metadata": {
            "tags": []
          },
          "execution_count": 104
        }
      ]
    },
    {
      "cell_type": "code",
      "metadata": {
        "colab": {
          "base_uri": "https://localhost:8080/"
        },
        "id": "xHXAupY66XCn",
        "outputId": "0892406f-b1ae-4507-86f5-0fb3dc2a4178"
      },
      "source": [
        "df.shape"
      ],
      "execution_count": null,
      "outputs": [
        {
          "output_type": "execute_result",
          "data": {
            "text/plain": [
              "(891, 11)"
            ]
          },
          "metadata": {
            "tags": []
          },
          "execution_count": 105
        }
      ]
    },
    {
      "cell_type": "code",
      "metadata": {
        "id": "MpsDGKZHsf_W"
      },
      "source": [
        "# Dealing with the Missing Data\n",
        "# There are 687 missing records in the cabin column, The missing data seems to be too much for it to help in our analysis. Therefore I will drop the column\n",
        "# There are only 2 missing records in the Embarked column, I will drop the 2 entries\n",
        "#Filling the missing ages with the mean in the age in the train data\n",
        "\n",
        "df['Age'].fillna(df['Age'].mean(),inplace=True)\n",
        "df = df.drop(columns=['Cabin'])\n",
        "df = df.dropna()"
      ],
      "execution_count": null,
      "outputs": []
    },
    {
      "cell_type": "code",
      "metadata": {
        "id": "VYOnTaPJF_fL",
        "colab": {
          "base_uri": "https://localhost:8080/"
        },
        "outputId": "05a7e27b-22c9-484b-e44f-0122383f96d8"
      },
      "source": [
        "# Identifying the duplicate Data\n",
        "\n",
        "len(df)-len(df.drop_duplicates())"
      ],
      "execution_count": null,
      "outputs": [
        {
          "output_type": "execute_result",
          "data": {
            "text/plain": [
              "0"
            ]
          },
          "metadata": {
            "tags": []
          },
          "execution_count": 107
        }
      ]
    },
    {
      "cell_type": "code",
      "metadata": {
        "id": "UBayaZubGKWw"
      },
      "source": [
        "# Dealing with the Duplicate Data\n",
        "# They are no duplicate records, we can procceed\n"
      ],
      "execution_count": null,
      "outputs": []
    },
    {
      "cell_type": "code",
      "metadata": {
        "colab": {
          "base_uri": "https://localhost:8080/"
        },
        "id": "TupbOLXLF4VI",
        "outputId": "8fa0f7b6-e659-4361-9ee9-65b66ecd9551"
      },
      "source": [
        "df.info()"
      ],
      "execution_count": null,
      "outputs": [
        {
          "output_type": "stream",
          "text": [
            "<class 'pandas.core.frame.DataFrame'>\n",
            "Int64Index: 889 entries, 1 to 891\n",
            "Data columns (total 10 columns):\n",
            " #   Column    Non-Null Count  Dtype  \n",
            "---  ------    --------------  -----  \n",
            " 0   Survived  889 non-null    int64  \n",
            " 1   Pclass    889 non-null    int64  \n",
            " 2   Name      889 non-null    object \n",
            " 3   Sex       889 non-null    object \n",
            " 4   Age       889 non-null    float64\n",
            " 5   SibSp     889 non-null    int64  \n",
            " 6   Parch     889 non-null    int64  \n",
            " 7   Ticket    889 non-null    object \n",
            " 8   Fare      889 non-null    float64\n",
            " 9   Embarked  889 non-null    object \n",
            "dtypes: float64(2), int64(4), object(4)\n",
            "memory usage: 76.4+ KB\n"
          ],
          "name": "stdout"
        }
      ]
    },
    {
      "cell_type": "code",
      "metadata": {
        "colab": {
          "base_uri": "https://localhost:8080/"
        },
        "id": "aR47eVrwF6Tg",
        "outputId": "caa212ba-2dcb-48d4-d9a0-f60cc0b5597f"
      },
      "source": [
        "df.head()"
      ],
      "execution_count": null,
      "outputs": [
        {
          "output_type": "execute_result",
          "data": {
            "text/html": [
              "<div>\n",
              "<style scoped>\n",
              "    .dataframe tbody tr th:only-of-type {\n",
              "        vertical-align: middle;\n",
              "    }\n",
              "\n",
              "    .dataframe tbody tr th {\n",
              "        vertical-align: top;\n",
              "    }\n",
              "\n",
              "    .dataframe thead th {\n",
              "        text-align: right;\n",
              "    }\n",
              "</style>\n",
              "<table border=\"1\" class=\"dataframe\">\n",
              "  <thead>\n",
              "    <tr style=\"text-align: right;\">\n",
              "      <th></th>\n",
              "      <th>Survived</th>\n",
              "      <th>Pclass</th>\n",
              "      <th>Name</th>\n",
              "      <th>Sex</th>\n",
              "      <th>Age</th>\n",
              "      <th>SibSp</th>\n",
              "      <th>Parch</th>\n",
              "      <th>Ticket</th>\n",
              "      <th>Fare</th>\n",
              "      <th>Embarked</th>\n",
              "    </tr>\n",
              "    <tr>\n",
              "      <th>PassengerId</th>\n",
              "      <th></th>\n",
              "      <th></th>\n",
              "      <th></th>\n",
              "      <th></th>\n",
              "      <th></th>\n",
              "      <th></th>\n",
              "      <th></th>\n",
              "      <th></th>\n",
              "      <th></th>\n",
              "      <th></th>\n",
              "    </tr>\n",
              "  </thead>\n",
              "  <tbody>\n",
              "    <tr>\n",
              "      <th>1</th>\n",
              "      <td>0</td>\n",
              "      <td>3</td>\n",
              "      <td>Braund, Mr. Owen Harris</td>\n",
              "      <td>male</td>\n",
              "      <td>22.00</td>\n",
              "      <td>1</td>\n",
              "      <td>0</td>\n",
              "      <td>A/5 21171</td>\n",
              "      <td>7.25</td>\n",
              "      <td>S</td>\n",
              "    </tr>\n",
              "    <tr>\n",
              "      <th>2</th>\n",
              "      <td>1</td>\n",
              "      <td>1</td>\n",
              "      <td>Cumings, Mrs. John Bradley (Florence Briggs Th...</td>\n",
              "      <td>female</td>\n",
              "      <td>38.00</td>\n",
              "      <td>1</td>\n",
              "      <td>0</td>\n",
              "      <td>PC 17599</td>\n",
              "      <td>71.28</td>\n",
              "      <td>C</td>\n",
              "    </tr>\n",
              "    <tr>\n",
              "      <th>3</th>\n",
              "      <td>1</td>\n",
              "      <td>3</td>\n",
              "      <td>Heikkinen, Miss. Laina</td>\n",
              "      <td>female</td>\n",
              "      <td>26.00</td>\n",
              "      <td>0</td>\n",
              "      <td>0</td>\n",
              "      <td>STON/O2. 3101282</td>\n",
              "      <td>7.92</td>\n",
              "      <td>S</td>\n",
              "    </tr>\n",
              "    <tr>\n",
              "      <th>4</th>\n",
              "      <td>1</td>\n",
              "      <td>1</td>\n",
              "      <td>Futrelle, Mrs. Jacques Heath (Lily May Peel)</td>\n",
              "      <td>female</td>\n",
              "      <td>35.00</td>\n",
              "      <td>1</td>\n",
              "      <td>0</td>\n",
              "      <td>113803</td>\n",
              "      <td>53.10</td>\n",
              "      <td>S</td>\n",
              "    </tr>\n",
              "    <tr>\n",
              "      <th>5</th>\n",
              "      <td>0</td>\n",
              "      <td>3</td>\n",
              "      <td>Allen, Mr. William Henry</td>\n",
              "      <td>male</td>\n",
              "      <td>35.00</td>\n",
              "      <td>0</td>\n",
              "      <td>0</td>\n",
              "      <td>373450</td>\n",
              "      <td>8.05</td>\n",
              "      <td>S</td>\n",
              "    </tr>\n",
              "  </tbody>\n",
              "</table>\n",
              "</div>"
            ],
            "text/plain": [
              "             Survived  Pclass  ...  Fare Embarked\n",
              "PassengerId                    ...               \n",
              "1                   0       3  ...  7.25        S\n",
              "2                   1       1  ... 71.28        C\n",
              "3                   1       3  ...  7.92        S\n",
              "4                   1       1  ... 53.10        S\n",
              "5                   0       3  ...  8.05        S\n",
              "\n",
              "[5 rows x 10 columns]"
            ]
          },
          "metadata": {
            "tags": []
          },
          "execution_count": 110
        }
      ]
    },
    {
      "cell_type": "code",
      "metadata": {
        "id": "D-4I__6Os4C5",
        "colab": {
          "base_uri": "https://localhost:8080/"
        },
        "outputId": "9a8474c9-fcf1-40b5-96ca-7783309744e1"
      },
      "source": [
        "# More data cleaning procedures\n",
        "\n",
        "#Encoding columns\n",
        "# encoding the Sex column\n",
        "\n",
        "cat_cols = ['Sex']\n",
        "\n",
        "# looping through the columns to encode\n",
        "for col in cat_cols:\n",
        "\n",
        "# encoding the sex column\n",
        "  cat_enc = {'Sex':{'male':0,'female':1}}\n",
        "\n",
        "df.replace(cat_enc, inplace=True)\n",
        "\n",
        "df['Sex'].astype(int)\n",
        "\n",
        "# encoding the Embarked column\n",
        "\n",
        "cat_cols = ['Embarked']\n",
        "\n",
        "# looping through the columns to encode\n",
        "for col in cat_cols:\n",
        "\n",
        "# encoding the embarked column\n",
        "  cat_enc = {'Embarked':{'Q':0,'S':1, 'C':2}}\n",
        "\n",
        "df.replace(cat_enc, inplace=True)\n",
        "\n",
        "df['Embarked'].astype(int)\n",
        "# checking to see if the changes have been effected\n",
        "df.head()\n",
        "\n",
        "\n",
        "#I don't see how we will use the name or ticket column so we caan procceed to delete it\n",
        "df = df.drop(columns=['Name'])\n",
        "df = df.drop(columns=['Ticket'])\n",
        "\n",
        "\n",
        "df.head()"
      ],
      "execution_count": null,
      "outputs": [
        {
          "output_type": "execute_result",
          "data": {
            "text/html": [
              "<div>\n",
              "<style scoped>\n",
              "    .dataframe tbody tr th:only-of-type {\n",
              "        vertical-align: middle;\n",
              "    }\n",
              "\n",
              "    .dataframe tbody tr th {\n",
              "        vertical-align: top;\n",
              "    }\n",
              "\n",
              "    .dataframe thead th {\n",
              "        text-align: right;\n",
              "    }\n",
              "</style>\n",
              "<table border=\"1\" class=\"dataframe\">\n",
              "  <thead>\n",
              "    <tr style=\"text-align: right;\">\n",
              "      <th></th>\n",
              "      <th>Survived</th>\n",
              "      <th>Pclass</th>\n",
              "      <th>Sex</th>\n",
              "      <th>Age</th>\n",
              "      <th>SibSp</th>\n",
              "      <th>Parch</th>\n",
              "      <th>Fare</th>\n",
              "      <th>Embarked</th>\n",
              "    </tr>\n",
              "    <tr>\n",
              "      <th>PassengerId</th>\n",
              "      <th></th>\n",
              "      <th></th>\n",
              "      <th></th>\n",
              "      <th></th>\n",
              "      <th></th>\n",
              "      <th></th>\n",
              "      <th></th>\n",
              "      <th></th>\n",
              "    </tr>\n",
              "  </thead>\n",
              "  <tbody>\n",
              "    <tr>\n",
              "      <th>1</th>\n",
              "      <td>0</td>\n",
              "      <td>3</td>\n",
              "      <td>0</td>\n",
              "      <td>22.00</td>\n",
              "      <td>1</td>\n",
              "      <td>0</td>\n",
              "      <td>7.25</td>\n",
              "      <td>1</td>\n",
              "    </tr>\n",
              "    <tr>\n",
              "      <th>2</th>\n",
              "      <td>1</td>\n",
              "      <td>1</td>\n",
              "      <td>1</td>\n",
              "      <td>38.00</td>\n",
              "      <td>1</td>\n",
              "      <td>0</td>\n",
              "      <td>71.28</td>\n",
              "      <td>2</td>\n",
              "    </tr>\n",
              "    <tr>\n",
              "      <th>3</th>\n",
              "      <td>1</td>\n",
              "      <td>3</td>\n",
              "      <td>1</td>\n",
              "      <td>26.00</td>\n",
              "      <td>0</td>\n",
              "      <td>0</td>\n",
              "      <td>7.92</td>\n",
              "      <td>1</td>\n",
              "    </tr>\n",
              "    <tr>\n",
              "      <th>4</th>\n",
              "      <td>1</td>\n",
              "      <td>1</td>\n",
              "      <td>1</td>\n",
              "      <td>35.00</td>\n",
              "      <td>1</td>\n",
              "      <td>0</td>\n",
              "      <td>53.10</td>\n",
              "      <td>1</td>\n",
              "    </tr>\n",
              "    <tr>\n",
              "      <th>5</th>\n",
              "      <td>0</td>\n",
              "      <td>3</td>\n",
              "      <td>0</td>\n",
              "      <td>35.00</td>\n",
              "      <td>0</td>\n",
              "      <td>0</td>\n",
              "      <td>8.05</td>\n",
              "      <td>1</td>\n",
              "    </tr>\n",
              "  </tbody>\n",
              "</table>\n",
              "</div>"
            ],
            "text/plain": [
              "             Survived  Pclass  Sex   Age  SibSp  Parch  Fare  Embarked\n",
              "PassengerId                                                           \n",
              "1                   0       3    0 22.00      1      0  7.25         1\n",
              "2                   1       1    1 38.00      1      0 71.28         2\n",
              "3                   1       3    1 26.00      0      0  7.92         1\n",
              "4                   1       1    1 35.00      1      0 53.10         1\n",
              "5                   0       3    0 35.00      0      0  8.05         1"
            ]
          },
          "metadata": {
            "tags": []
          },
          "execution_count": 111
        }
      ]
    },
    {
      "cell_type": "code",
      "metadata": {
        "id": "95_kct-pHPig"
      },
      "source": [
        "#Standardizing column names\n",
        "\n",
        "df.columns = df.columns.str.strip().str.lower().str.replace(' ', '_').str.replace('(', '').str.replace(')', '')"
      ],
      "execution_count": null,
      "outputs": []
    },
    {
      "cell_type": "code",
      "metadata": {
        "id": "Ui4p49QGHdou",
        "colab": {
          "base_uri": "https://localhost:8080/"
        },
        "outputId": "bc6b6267-3136-483c-e2db-b93f4f1a76e6"
      },
      "source": [
        "df.shape"
      ],
      "execution_count": null,
      "outputs": [
        {
          "output_type": "execute_result",
          "data": {
            "text/plain": [
              "(889, 8)"
            ]
          },
          "metadata": {
            "tags": []
          },
          "execution_count": 113
        }
      ]
    },
    {
      "cell_type": "code",
      "metadata": {
        "id": "9EHqihcVXaKl"
      },
      "source": [
        ""
      ],
      "execution_count": null,
      "outputs": []
    },
    {
      "cell_type": "markdown",
      "metadata": {
        "id": "zjq74DzcXaiz"
      },
      "source": [
        "###*Test dataset*"
      ]
    },
    {
      "cell_type": "code",
      "metadata": {
        "colab": {
          "base_uri": "https://localhost:8080/"
        },
        "id": "Cto09iv_Xaiz",
        "outputId": "72d39dca-ad67-48b8-af97-abb6088ae3d0"
      },
      "source": [
        "test.columns"
      ],
      "execution_count": null,
      "outputs": [
        {
          "output_type": "execute_result",
          "data": {
            "text/plain": [
              "Index(['Pclass', 'Name', 'Sex', 'Age', 'SibSp', 'Parch', 'Ticket', 'Fare',\n",
              "       'Cabin', 'Embarked'],\n",
              "      dtype='object')"
            ]
          },
          "metadata": {
            "tags": []
          },
          "execution_count": 114
        }
      ]
    },
    {
      "cell_type": "code",
      "metadata": {
        "colab": {
          "base_uri": "https://localhost:8080/"
        },
        "id": "QkynyJnqXai1",
        "outputId": "2813690c-6a26-4d00-8458-c4cf2c68903b"
      },
      "source": [
        "# Checking for Outliers\n",
        "\n",
        "\n",
        "col_names = [ 'Pclass', 'Age', 'SibSp',\n",
        "       'Parch', 'Fare']\n",
        "fig, ax = plt.subplots(len(col_names), figsize = (16,70))\n",
        "for i, col_val in enumerate(col_names):\n",
        "\n",
        "    sns.boxplot(x = test[col_val], ax=ax[i])\n",
        "    ax[i].set_title('A boxplot on the {} column'.format(col_val), fontsize=14)\n",
        "    ax[i].set_xlabel(col_val, fontsize=8)\n",
        "plt.show()"
      ],
      "execution_count": null,
      "outputs": [
        {
          "output_type": "display_data",
          "data": {
            "image/png": "[encoded data removed]",
            "text/plain": [
              "<Figure size 1152x5040 with 5 Axes>"
            ]
          },
          "metadata": {
            "tags": [],
            "needs_background": "light"
          }
        }
      ]
    },
    {
      "cell_type": "code",
      "metadata": {
        "colab": {
          "base_uri": "https://localhost:8080/"
        },
        "id": "GFkk4vb0Xai2",
        "outputId": "1bad9501-e60e-4807-f92c-a61363269de7"
      },
      "source": [
        "#There seems to be very many outliers but lets count them to be sure\n",
        "\n",
        "test1 = test[[ 'Pclass', 'Age', 'SibSp',\n",
        "       'Parch', 'Fare']]\n",
        "Q1 = test1.quantile(0.25)\n",
        "Q3 = test1.quantile(0.75)\n",
        "IQR = Q3 - Q1\n",
        "((test1 < (Q1 - 1.5 * IQR)) | (test1 > (Q3 + 1.5 * IQR))).sum()\n"
      ],
      "execution_count": null,
      "outputs": [
        {
          "output_type": "execute_result",
          "data": {
            "text/plain": [
              "Pclass     0\n",
              "Age        2\n",
              "SibSp     11\n",
              "Parch     94\n",
              "Fare      55\n",
              "dtype: int64"
            ]
          },
          "metadata": {
            "tags": []
          },
          "execution_count": 116
        }
      ]
    },
    {
      "cell_type": "markdown",
      "metadata": {
        "id": "yHw4NpFKXai3"
      },
      "source": [
        "There seems to be very many outliers, if we decide to drop them, the data may not be sufficient for the analysis"
      ]
    },
    {
      "cell_type": "code",
      "metadata": {
        "colab": {
          "base_uri": "https://localhost:8080/"
        },
        "id": "85CsJzJNXai4",
        "outputId": "b2c0b8e7-cd72-4f3a-fef7-189585509b80"
      },
      "source": [
        "# Identifying the Missing Data\n",
        "#\n",
        "test.isnull().sum()"
      ],
      "execution_count": null,
      "outputs": [
        {
          "output_type": "execute_result",
          "data": {
            "text/plain": [
              "Pclass        0\n",
              "Name          0\n",
              "Sex           0\n",
              "Age          86\n",
              "SibSp         0\n",
              "Parch         0\n",
              "Ticket        0\n",
              "Fare          1\n",
              "Cabin       327\n",
              "Embarked      0\n",
              "dtype: int64"
            ]
          },
          "metadata": {
            "tags": []
          },
          "execution_count": 117
        }
      ]
    },
    {
      "cell_type": "code",
      "metadata": {
        "colab": {
          "base_uri": "https://localhost:8080/"
        },
        "id": "nL3wIOhzXai4",
        "outputId": "fe1f0b6a-6caf-41f5-cdb3-2e4a7ec8f313"
      },
      "source": [
        "test.shape"
      ],
      "execution_count": null,
      "outputs": [
        {
          "output_type": "execute_result",
          "data": {
            "text/plain": [
              "(418, 10)"
            ]
          },
          "metadata": {
            "tags": []
          },
          "execution_count": 118
        }
      ]
    },
    {
      "cell_type": "code",
      "metadata": {
        "id": "9eNY3FB8Xai5"
      },
      "source": [
        "# Dealing with the Missing Data\n",
        "# There are 327 missing records in the cabin column, The missing data seems to be too much for it to help in our analysis. Therefore I will drop the column\n",
        "# There is only 1 missing record in the fare column. we can drop the record\n",
        "#Filling the missing ages with the mean in the age in the train data\n",
        "\n",
        "test['Age'].fillna(test['Age'].mean(),inplace=True)\n",
        "test = test.drop(columns=['Cabin'])\n",
        "test = test.dropna()"
      ],
      "execution_count": null,
      "outputs": []
    },
    {
      "cell_type": "code",
      "metadata": {
        "colab": {
          "base_uri": "https://localhost:8080/"
        },
        "id": "NOdx1ZGmXai6",
        "outputId": "9fe6e55f-3873-4e10-a025-27338971175a"
      },
      "source": [
        "# Identifying the duplicate Data\n",
        "\n",
        "len(test)-len(test.drop_duplicates())"
      ],
      "execution_count": null,
      "outputs": [
        {
          "output_type": "execute_result",
          "data": {
            "text/plain": [
              "0"
            ]
          },
          "metadata": {
            "tags": []
          },
          "execution_count": 120
        }
      ]
    },
    {
      "cell_type": "code",
      "metadata": {
        "id": "mTdYz-3eXai6"
      },
      "source": [
        "# Dealing with the Duplicate Data\n",
        "# They are no duplicate records, we can procceed\n"
      ],
      "execution_count": null,
      "outputs": []
    },
    {
      "cell_type": "code",
      "metadata": {
        "colab": {
          "base_uri": "https://localhost:8080/"
        },
        "id": "73kt9UdjXai7",
        "outputId": "e4b7003d-e832-421f-e9ef-7baa725c829f"
      },
      "source": [
        "test.info()"
      ],
      "execution_count": null,
      "outputs": [
        {
          "output_type": "stream",
          "text": [
            "<class 'pandas.core.frame.DataFrame'>\n",
            "Int64Index: 417 entries, 892 to 1309\n",
            "Data columns (total 9 columns):\n",
            " #   Column    Non-Null Count  Dtype  \n",
            "---  ------    --------------  -----  \n",
            " 0   Pclass    417 non-null    int64  \n",
            " 1   Name      417 non-null    object \n",
            " 2   Sex       417 non-null    object \n",
            " 3   Age       417 non-null    float64\n",
            " 4   SibSp     417 non-null    int64  \n",
            " 5   Parch     417 non-null    int64  \n",
            " 6   Ticket    417 non-null    object \n",
            " 7   Fare      417 non-null    float64\n",
            " 8   Embarked  417 non-null    object \n",
            "dtypes: float64(2), int64(3), object(4)\n",
            "memory usage: 32.6+ KB\n"
          ],
          "name": "stdout"
        }
      ]
    },
    {
      "cell_type": "code",
      "metadata": {
        "colab": {
          "base_uri": "https://localhost:8080/"
        },
        "id": "Mp1mjeKDXai7",
        "outputId": "acc01ca5-7112-4d40-91aa-78d89d50b90b"
      },
      "source": [
        "test.head()"
      ],
      "execution_count": null,
      "outputs": [
        {
          "output_type": "execute_result",
          "data": {
            "text/html": [
              "<div>\n",
              "<style scoped>\n",
              "    .dataframe tbody tr th:only-of-type {\n",
              "        vertical-align: middle;\n",
              "    }\n",
              "\n",
              "    .dataframe tbody tr th {\n",
              "        vertical-align: top;\n",
              "    }\n",
              "\n",
              "    .dataframe thead th {\n",
              "        text-align: right;\n",
              "    }\n",
              "</style>\n",
              "<table border=\"1\" class=\"dataframe\">\n",
              "  <thead>\n",
              "    <tr style=\"text-align: right;\">\n",
              "      <th></th>\n",
              "      <th>Pclass</th>\n",
              "      <th>Name</th>\n",
              "      <th>Sex</th>\n",
              "      <th>Age</th>\n",
              "      <th>SibSp</th>\n",
              "      <th>Parch</th>\n",
              "      <th>Ticket</th>\n",
              "      <th>Fare</th>\n",
              "      <th>Embarked</th>\n",
              "    </tr>\n",
              "    <tr>\n",
              "      <th>PassengerId</th>\n",
              "      <th></th>\n",
              "      <th></th>\n",
              "      <th></th>\n",
              "      <th></th>\n",
              "      <th></th>\n",
              "      <th></th>\n",
              "      <th></th>\n",
              "      <th></th>\n",
              "      <th></th>\n",
              "    </tr>\n",
              "  </thead>\n",
              "  <tbody>\n",
              "    <tr>\n",
              "      <th>892</th>\n",
              "      <td>3</td>\n",
              "      <td>Kelly, Mr. James</td>\n",
              "      <td>male</td>\n",
              "      <td>34.50</td>\n",
              "      <td>0</td>\n",
              "      <td>0</td>\n",
              "      <td>330911</td>\n",
              "      <td>7.83</td>\n",
              "      <td>Q</td>\n",
              "    </tr>\n",
              "    <tr>\n",
              "      <th>893</th>\n",
              "      <td>3</td>\n",
              "      <td>Wilkes, Mrs. James (Ellen Needs)</td>\n",
              "      <td>female</td>\n",
              "      <td>47.00</td>\n",
              "      <td>1</td>\n",
              "      <td>0</td>\n",
              "      <td>363272</td>\n",
              "      <td>7.00</td>\n",
              "      <td>S</td>\n",
              "    </tr>\n",
              "    <tr>\n",
              "      <th>894</th>\n",
              "      <td>2</td>\n",
              "      <td>Myles, Mr. Thomas Francis</td>\n",
              "      <td>male</td>\n",
              "      <td>62.00</td>\n",
              "      <td>0</td>\n",
              "      <td>0</td>\n",
              "      <td>240276</td>\n",
              "      <td>9.69</td>\n",
              "      <td>Q</td>\n",
              "    </tr>\n",
              "    <tr>\n",
              "      <th>895</th>\n",
              "      <td>3</td>\n",
              "      <td>Wirz, Mr. Albert</td>\n",
              "      <td>male</td>\n",
              "      <td>27.00</td>\n",
              "      <td>0</td>\n",
              "      <td>0</td>\n",
              "      <td>315154</td>\n",
              "      <td>8.66</td>\n",
              "      <td>S</td>\n",
              "    </tr>\n",
              "    <tr>\n",
              "      <th>896</th>\n",
              "      <td>3</td>\n",
              "      <td>Hirvonen, Mrs. Alexander (Helga E Lindqvist)</td>\n",
              "      <td>female</td>\n",
              "      <td>22.00</td>\n",
              "      <td>1</td>\n",
              "      <td>1</td>\n",
              "      <td>3101298</td>\n",
              "      <td>12.29</td>\n",
              "      <td>S</td>\n",
              "    </tr>\n",
              "  </tbody>\n",
              "</table>\n",
              "</div>"
            ],
            "text/plain": [
              "             Pclass  ... Embarked\n",
              "PassengerId          ...         \n",
              "892               3  ...        Q\n",
              "893               3  ...        S\n",
              "894               2  ...        Q\n",
              "895               3  ...        S\n",
              "896               3  ...        S\n",
              "\n",
              "[5 rows x 9 columns]"
            ]
          },
          "metadata": {
            "tags": []
          },
          "execution_count": 123
        }
      ]
    },
    {
      "cell_type": "code",
      "metadata": {
        "colab": {
          "base_uri": "https://localhost:8080/"
        },
        "id": "LWNdcSmkXai8",
        "outputId": "3a824e4d-9ade-46c1-87e6-506c2de9f76d"
      },
      "source": [
        "# More data cleaning procedures\n",
        "\n",
        "#Encoding columns\n",
        "# encoding the Sex column\n",
        "\n",
        "cat_cols = ['Sex']\n",
        "\n",
        "# looping through the columns to encode\n",
        "for col in cat_cols:\n",
        "\n",
        "# encoding the sex column\n",
        "  cat_enc = {'Sex':{'male':0,'female':1}}\n",
        "\n",
        "test.replace(cat_enc, inplace=True)\n",
        "\n",
        "test['Sex'].astype(int)\n",
        "\n",
        "# encoding the Embarked column\n",
        "\n",
        "cat_cols = ['Embarked']\n",
        "\n",
        "# looping through the columns to encode\n",
        "for col in cat_cols:\n",
        "\n",
        "# encoding the embarked column\n",
        "  cat_enc = {'Embarked':{'Q':0,'S':1, 'C':2}}\n",
        "\n",
        "test.replace(cat_enc, inplace=True)\n",
        "\n",
        "test['Embarked'].astype(int)\n",
        "# checking to see if the changes have been effected\n",
        "test.head()\n",
        "\n",
        "\n",
        "#I don't see how we will use the name column so we caan procceed to delete it\n",
        "test = test.drop(columns=['Name'])\n",
        "test = test.drop(columns=['Ticket'])\n",
        "\n",
        "test.head()"
      ],
      "execution_count": null,
      "outputs": [
        {
          "output_type": "execute_result",
          "data": {
            "text/html": [
              "<div>\n",
              "<style scoped>\n",
              "    .dataframe tbody tr th:only-of-type {\n",
              "        vertical-align: middle;\n",
              "    }\n",
              "\n",
              "    .dataframe tbody tr th {\n",
              "        vertical-align: top;\n",
              "    }\n",
              "\n",
              "    .dataframe thead th {\n",
              "        text-align: right;\n",
              "    }\n",
              "</style>\n",
              "<table border=\"1\" class=\"dataframe\">\n",
              "  <thead>\n",
              "    <tr style=\"text-align: right;\">\n",
              "      <th></th>\n",
              "      <th>Pclass</th>\n",
              "      <th>Sex</th>\n",
              "      <th>Age</th>\n",
              "      <th>SibSp</th>\n",
              "      <th>Parch</th>\n",
              "      <th>Fare</th>\n",
              "      <th>Embarked</th>\n",
              "    </tr>\n",
              "    <tr>\n",
              "      <th>PassengerId</th>\n",
              "      <th></th>\n",
              "      <th></th>\n",
              "      <th></th>\n",
              "      <th></th>\n",
              "      <th></th>\n",
              "      <th></th>\n",
              "      <th></th>\n",
              "    </tr>\n",
              "  </thead>\n",
              "  <tbody>\n",
              "    <tr>\n",
              "      <th>892</th>\n",
              "      <td>3</td>\n",
              "      <td>0</td>\n",
              "      <td>34.50</td>\n",
              "      <td>0</td>\n",
              "      <td>0</td>\n",
              "      <td>7.83</td>\n",
              "      <td>0</td>\n",
              "    </tr>\n",
              "    <tr>\n",
              "      <th>893</th>\n",
              "      <td>3</td>\n",
              "      <td>1</td>\n",
              "      <td>47.00</td>\n",
              "      <td>1</td>\n",
              "      <td>0</td>\n",
              "      <td>7.00</td>\n",
              "      <td>1</td>\n",
              "    </tr>\n",
              "    <tr>\n",
              "      <th>894</th>\n",
              "      <td>2</td>\n",
              "      <td>0</td>\n",
              "      <td>62.00</td>\n",
              "      <td>0</td>\n",
              "      <td>0</td>\n",
              "      <td>9.69</td>\n",
              "      <td>0</td>\n",
              "    </tr>\n",
              "    <tr>\n",
              "      <th>895</th>\n",
              "      <td>3</td>\n",
              "      <td>0</td>\n",
              "      <td>27.00</td>\n",
              "      <td>0</td>\n",
              "      <td>0</td>\n",
              "      <td>8.66</td>\n",
              "      <td>1</td>\n",
              "    </tr>\n",
              "    <tr>\n",
              "      <th>896</th>\n",
              "      <td>3</td>\n",
              "      <td>1</td>\n",
              "      <td>22.00</td>\n",
              "      <td>1</td>\n",
              "      <td>1</td>\n",
              "      <td>12.29</td>\n",
              "      <td>1</td>\n",
              "    </tr>\n",
              "  </tbody>\n",
              "</table>\n",
              "</div>"
            ],
            "text/plain": [
              "             Pclass  Sex   Age  SibSp  Parch  Fare  Embarked\n",
              "PassengerId                                                 \n",
              "892               3    0 34.50      0      0  7.83         0\n",
              "893               3    1 47.00      1      0  7.00         1\n",
              "894               2    0 62.00      0      0  9.69         0\n",
              "895               3    0 27.00      0      0  8.66         1\n",
              "896               3    1 22.00      1      1 12.29         1"
            ]
          },
          "metadata": {
            "tags": []
          },
          "execution_count": 124
        }
      ]
    },
    {
      "cell_type": "code",
      "metadata": {
        "id": "K-h9Mo2XXai8"
      },
      "source": [
        "#Standardizing column names\n",
        "\n",
        "test.columns = test.columns.str.strip().str.lower().str.replace(' ', '_').str.replace('(', '').str.replace(')', '')"
      ],
      "execution_count": null,
      "outputs": []
    },
    {
      "cell_type": "code",
      "metadata": {
        "colab": {
          "base_uri": "https://localhost:8080/"
        },
        "id": "2-t65fK0Xai9",
        "outputId": "1508e81f-64c2-422a-89e8-43798a0f0a5b"
      },
      "source": [
        "test.shape"
      ],
      "execution_count": null,
      "outputs": [
        {
          "output_type": "execute_result",
          "data": {
            "text/plain": [
              "(417, 7)"
            ]
          },
          "metadata": {
            "tags": []
          },
          "execution_count": 126
        }
      ]
    },
    {
      "cell_type": "code",
      "metadata": {
        "id": "SbdFDCF6XZ8e"
      },
      "source": [
        ""
      ],
      "execution_count": null,
      "outputs": []
    },
    {
      "cell_type": "code",
      "metadata": {
        "id": "qtsmBbpitT05"
      },
      "source": [
        ""
      ],
      "execution_count": null,
      "outputs": []
    },
    {
      "cell_type": "markdown",
      "metadata": {
        "id": "waFhWzVftU0u"
      },
      "source": [
        "## 5. Exploratory Analysis"
      ]
    },
    {
      "cell_type": "markdown",
      "metadata": {
        "id": "cqxBQvQYH_-3"
      },
      "source": [
        "###Measures of central tendancy\n"
      ]
    },
    {
      "cell_type": "code",
      "metadata": {
        "colab": {
          "base_uri": "https://localhost:8080/",
          "height": 299
        },
        "id": "i7jhlgkcv2hW",
        "outputId": "8c95efb7-4864-4387-ff76-5a0b1e931945"
      },
      "source": [
        "#getting summary\n",
        "df.describe(include='all')"
      ],
      "execution_count": null,
      "outputs": [
        {
          "output_type": "execute_result",
          "data": {
            "text/html": [
              "<div>\n",
              "<style scoped>\n",
              "    .dataframe tbody tr th:only-of-type {\n",
              "        vertical-align: middle;\n",
              "    }\n",
              "\n",
              "    .dataframe tbody tr th {\n",
              "        vertical-align: top;\n",
              "    }\n",
              "\n",
              "    .dataframe thead th {\n",
              "        text-align: right;\n",
              "    }\n",
              "</style>\n",
              "<table border=\"1\" class=\"dataframe\">\n",
              "  <thead>\n",
              "    <tr style=\"text-align: right;\">\n",
              "      <th></th>\n",
              "      <th>survived</th>\n",
              "      <th>pclass</th>\n",
              "      <th>sex</th>\n",
              "      <th>age</th>\n",
              "      <th>sibsp</th>\n",
              "      <th>parch</th>\n",
              "      <th>fare</th>\n",
              "      <th>embarked</th>\n",
              "    </tr>\n",
              "  </thead>\n",
              "  <tbody>\n",
              "    <tr>\n",
              "      <th>count</th>\n",
              "      <td>889.00</td>\n",
              "      <td>889.00</td>\n",
              "      <td>889.00</td>\n",
              "      <td>889.00</td>\n",
              "      <td>889.00</td>\n",
              "      <td>889.00</td>\n",
              "      <td>889.00</td>\n",
              "      <td>889.00</td>\n",
              "    </tr>\n",
              "    <tr>\n",
              "      <th>mean</th>\n",
              "      <td>0.38</td>\n",
              "      <td>2.31</td>\n",
              "      <td>0.35</td>\n",
              "      <td>29.65</td>\n",
              "      <td>0.52</td>\n",
              "      <td>0.38</td>\n",
              "      <td>32.10</td>\n",
              "      <td>1.10</td>\n",
              "    </tr>\n",
              "    <tr>\n",
              "      <th>std</th>\n",
              "      <td>0.49</td>\n",
              "      <td>0.83</td>\n",
              "      <td>0.48</td>\n",
              "      <td>12.97</td>\n",
              "      <td>1.10</td>\n",
              "      <td>0.81</td>\n",
              "      <td>49.70</td>\n",
              "      <td>0.52</td>\n",
              "    </tr>\n",
              "    <tr>\n",
              "      <th>min</th>\n",
              "      <td>0.00</td>\n",
              "      <td>1.00</td>\n",
              "      <td>0.00</td>\n",
              "      <td>0.42</td>\n",
              "      <td>0.00</td>\n",
              "      <td>0.00</td>\n",
              "      <td>0.00</td>\n",
              "      <td>0.00</td>\n",
              "    </tr>\n",
              "    <tr>\n",
              "      <th>25%</th>\n",
              "      <td>0.00</td>\n",
              "      <td>2.00</td>\n",
              "      <td>0.00</td>\n",
              "      <td>22.00</td>\n",
              "      <td>0.00</td>\n",
              "      <td>0.00</td>\n",
              "      <td>7.90</td>\n",
              "      <td>1.00</td>\n",
              "    </tr>\n",
              "    <tr>\n",
              "      <th>50%</th>\n",
              "      <td>0.00</td>\n",
              "      <td>3.00</td>\n",
              "      <td>0.00</td>\n",
              "      <td>29.70</td>\n",
              "      <td>0.00</td>\n",
              "      <td>0.00</td>\n",
              "      <td>14.45</td>\n",
              "      <td>1.00</td>\n",
              "    </tr>\n",
              "    <tr>\n",
              "      <th>75%</th>\n",
              "      <td>1.00</td>\n",
              "      <td>3.00</td>\n",
              "      <td>1.00</td>\n",
              "      <td>35.00</td>\n",
              "      <td>1.00</td>\n",
              "      <td>0.00</td>\n",
              "      <td>31.00</td>\n",
              "      <td>1.00</td>\n",
              "    </tr>\n",
              "    <tr>\n",
              "      <th>max</th>\n",
              "      <td>1.00</td>\n",
              "      <td>3.00</td>\n",
              "      <td>1.00</td>\n",
              "      <td>80.00</td>\n",
              "      <td>8.00</td>\n",
              "      <td>6.00</td>\n",
              "      <td>512.33</td>\n",
              "      <td>2.00</td>\n",
              "    </tr>\n",
              "  </tbody>\n",
              "</table>\n",
              "</div>"
            ],
            "text/plain": [
              "       survived  pclass    sex    age  sibsp  parch   fare  embarked\n",
              "count    889.00  889.00 889.00 889.00 889.00 889.00 889.00    889.00\n",
              "mean       0.38    2.31   0.35  29.65   0.52   0.38  32.10      1.10\n",
              "std        0.49    0.83   0.48  12.97   1.10   0.81  49.70      0.52\n",
              "min        0.00    1.00   0.00   0.42   0.00   0.00   0.00      0.00\n",
              "25%        0.00    2.00   0.00  22.00   0.00   0.00   7.90      1.00\n",
              "50%        0.00    3.00   0.00  29.70   0.00   0.00  14.45      1.00\n",
              "75%        1.00    3.00   1.00  35.00   1.00   0.00  31.00      1.00\n",
              "max        1.00    3.00   1.00  80.00   8.00   6.00 512.33      2.00"
            ]
          },
          "metadata": {
            "tags": []
          },
          "execution_count": 42
        }
      ]
    },
    {
      "cell_type": "code",
      "metadata": {
        "colab": {
          "base_uri": "https://localhost:8080/"
        },
        "id": "82qCa1aatetA",
        "outputId": "1acb4b27-3870-4e82-b7fe-d932f79352d1"
      },
      "source": [
        "df.columns"
      ],
      "execution_count": null,
      "outputs": [
        {
          "output_type": "execute_result",
          "data": {
            "text/plain": [
              "Index(['survived', 'pclass', 'sex', 'age', 'sibsp', 'parch', 'fare',\n",
              "       'embarked'],\n",
              "      dtype='object')"
            ]
          },
          "metadata": {
            "tags": []
          },
          "execution_count": 43
        }
      ]
    },
    {
      "cell_type": "markdown",
      "metadata": {
        "id": "HYbzlTtRE72z"
      },
      "source": [
        "What is the most appearing number in each column?"
      ]
    },
    {
      "cell_type": "code",
      "metadata": {
        "colab": {
          "base_uri": "https://localhost:8080/"
        },
        "id": "Kn70A5H9v2hX",
        "outputId": "84ef44fa-0133-49fb-ae3c-82b3b3b4e869"
      },
      "source": [
        "# Mode\n",
        "# Calculating mode across different columns\n",
        "\n",
        "a = df[['survived', 'pclass', 'sex', 'age', 'sibsp', 'parch', 'fare',\n",
        "       'embarked']].mode().head(1)\n",
        "\n",
        "arr = a.to_numpy()\n",
        "arr\n"
      ],
      "execution_count": null,
      "outputs": [
        {
          "output_type": "execute_result",
          "data": {
            "text/plain": [
              "array([[ 0.        ,  3.        ,  0.        , 29.69911765,  0.        ,\n",
              "         0.        ,  8.05      ,  1.        ]])"
            ]
          },
          "metadata": {
            "tags": []
          },
          "execution_count": 44
        }
      ]
    },
    {
      "cell_type": "code",
      "metadata": {
        "colab": {
          "base_uri": "https://localhost:8080/",
          "height": 299
        },
        "id": "J_9-kRnkv2hY",
        "outputId": "ac712de5-ba13-4759-e927-c44a306462f1"
      },
      "source": [
        "modedf =pd.DataFrame()\n",
        "modedf\n",
        "\n",
        "data = {'Criteria': ['survived', 'pclass', 'sex', 'age', 'sibsp', 'parch',  'fare',\n",
        "       'embarked'], \n",
        "       'The most appearing record': [0.0, 3.0, 0.0, 29.69911764705882, 0.0, 0.0, 8.05, 'S']} \n",
        "modedf =pd.DataFrame(data)\n",
        "modedf"
      ],
      "execution_count": null,
      "outputs": [
        {
          "output_type": "execute_result",
          "data": {
            "text/html": [
              "<div>\n",
              "<style scoped>\n",
              "    .dataframe tbody tr th:only-of-type {\n",
              "        vertical-align: middle;\n",
              "    }\n",
              "\n",
              "    .dataframe tbody tr th {\n",
              "        vertical-align: top;\n",
              "    }\n",
              "\n",
              "    .dataframe thead th {\n",
              "        text-align: right;\n",
              "    }\n",
              "</style>\n",
              "<table border=\"1\" class=\"dataframe\">\n",
              "  <thead>\n",
              "    <tr style=\"text-align: right;\">\n",
              "      <th></th>\n",
              "      <th>Criteria</th>\n",
              "      <th>The most appearing record</th>\n",
              "    </tr>\n",
              "  </thead>\n",
              "  <tbody>\n",
              "    <tr>\n",
              "      <th>0</th>\n",
              "      <td>survived</td>\n",
              "      <td>0.00</td>\n",
              "    </tr>\n",
              "    <tr>\n",
              "      <th>1</th>\n",
              "      <td>pclass</td>\n",
              "      <td>3.00</td>\n",
              "    </tr>\n",
              "    <tr>\n",
              "      <th>2</th>\n",
              "      <td>sex</td>\n",
              "      <td>0.00</td>\n",
              "    </tr>\n",
              "    <tr>\n",
              "      <th>3</th>\n",
              "      <td>age</td>\n",
              "      <td>29.70</td>\n",
              "    </tr>\n",
              "    <tr>\n",
              "      <th>4</th>\n",
              "      <td>sibsp</td>\n",
              "      <td>0.00</td>\n",
              "    </tr>\n",
              "    <tr>\n",
              "      <th>5</th>\n",
              "      <td>parch</td>\n",
              "      <td>0.00</td>\n",
              "    </tr>\n",
              "    <tr>\n",
              "      <th>6</th>\n",
              "      <td>fare</td>\n",
              "      <td>8.05</td>\n",
              "    </tr>\n",
              "    <tr>\n",
              "      <th>7</th>\n",
              "      <td>embarked</td>\n",
              "      <td>S</td>\n",
              "    </tr>\n",
              "  </tbody>\n",
              "</table>\n",
              "</div>"
            ],
            "text/plain": [
              "   Criteria The most appearing record\n",
              "0  survived                      0.00\n",
              "1    pclass                      3.00\n",
              "2       sex                      0.00\n",
              "3       age                     29.70\n",
              "4     sibsp                      0.00\n",
              "5     parch                      0.00\n",
              "6      fare                      8.05\n",
              "7  embarked                         S"
            ]
          },
          "metadata": {
            "tags": []
          },
          "execution_count": 45
        }
      ]
    },
    {
      "cell_type": "markdown",
      "metadata": {
        "id": "Jm-NN2KFFCWb"
      },
      "source": [
        "What is the average of each column"
      ]
    },
    {
      "cell_type": "code",
      "metadata": {
        "colab": {
          "base_uri": "https://localhost:8080/",
          "height": 299
        },
        "id": "wO681Cfcv2hZ",
        "outputId": "eeab3b62-7f29-4183-e4be-5eb461aabba6"
      },
      "source": [
        "# Mean\n",
        "\n",
        "# Calculating mean across different columns\n",
        "\n",
        "a = df.mean()\n",
        "\n",
        "a\n",
        "a\n",
        "b = pd.DataFrame(a)\n",
        "b"
      ],
      "execution_count": null,
      "outputs": [
        {
          "output_type": "execute_result",
          "data": {
            "text/html": [
              "<div>\n",
              "<style scoped>\n",
              "    .dataframe tbody tr th:only-of-type {\n",
              "        vertical-align: middle;\n",
              "    }\n",
              "\n",
              "    .dataframe tbody tr th {\n",
              "        vertical-align: top;\n",
              "    }\n",
              "\n",
              "    .dataframe thead th {\n",
              "        text-align: right;\n",
              "    }\n",
              "</style>\n",
              "<table border=\"1\" class=\"dataframe\">\n",
              "  <thead>\n",
              "    <tr style=\"text-align: right;\">\n",
              "      <th></th>\n",
              "      <th>0</th>\n",
              "    </tr>\n",
              "  </thead>\n",
              "  <tbody>\n",
              "    <tr>\n",
              "      <th>survived</th>\n",
              "      <td>0.38</td>\n",
              "    </tr>\n",
              "    <tr>\n",
              "      <th>pclass</th>\n",
              "      <td>2.31</td>\n",
              "    </tr>\n",
              "    <tr>\n",
              "      <th>sex</th>\n",
              "      <td>0.35</td>\n",
              "    </tr>\n",
              "    <tr>\n",
              "      <th>age</th>\n",
              "      <td>29.65</td>\n",
              "    </tr>\n",
              "    <tr>\n",
              "      <th>sibsp</th>\n",
              "      <td>0.52</td>\n",
              "    </tr>\n",
              "    <tr>\n",
              "      <th>parch</th>\n",
              "      <td>0.38</td>\n",
              "    </tr>\n",
              "    <tr>\n",
              "      <th>fare</th>\n",
              "      <td>32.10</td>\n",
              "    </tr>\n",
              "    <tr>\n",
              "      <th>embarked</th>\n",
              "      <td>1.10</td>\n",
              "    </tr>\n",
              "  </tbody>\n",
              "</table>\n",
              "</div>"
            ],
            "text/plain": [
              "             0\n",
              "survived  0.38\n",
              "pclass    2.31\n",
              "sex       0.35\n",
              "age      29.65\n",
              "sibsp     0.52\n",
              "parch     0.38\n",
              "fare     32.10\n",
              "embarked  1.10"
            ]
          },
          "metadata": {
            "tags": []
          },
          "execution_count": 46
        }
      ]
    },
    {
      "cell_type": "markdown",
      "metadata": {
        "id": "Ut14WND_FfuA"
      },
      "source": [
        "What is the middle record of each column"
      ]
    },
    {
      "cell_type": "code",
      "metadata": {
        "colab": {
          "base_uri": "https://localhost:8080/",
          "height": 299
        },
        "id": "Knea7rFUv2ha",
        "outputId": "64cc5a0f-6a00-45df-f3d7-1cbaf7c6d39c"
      },
      "source": [
        "# Median\n",
        "# Calculating the median for across different columns\n",
        "\n",
        "a = df.median()\n",
        "\n",
        "a\n",
        "b = pd.DataFrame(a)\n",
        "b"
      ],
      "execution_count": null,
      "outputs": [
        {
          "output_type": "execute_result",
          "data": {
            "text/html": [
              "<div>\n",
              "<style scoped>\n",
              "    .dataframe tbody tr th:only-of-type {\n",
              "        vertical-align: middle;\n",
              "    }\n",
              "\n",
              "    .dataframe tbody tr th {\n",
              "        vertical-align: top;\n",
              "    }\n",
              "\n",
              "    .dataframe thead th {\n",
              "        text-align: right;\n",
              "    }\n",
              "</style>\n",
              "<table border=\"1\" class=\"dataframe\">\n",
              "  <thead>\n",
              "    <tr style=\"text-align: right;\">\n",
              "      <th></th>\n",
              "      <th>0</th>\n",
              "    </tr>\n",
              "  </thead>\n",
              "  <tbody>\n",
              "    <tr>\n",
              "      <th>survived</th>\n",
              "      <td>0.00</td>\n",
              "    </tr>\n",
              "    <tr>\n",
              "      <th>pclass</th>\n",
              "      <td>3.00</td>\n",
              "    </tr>\n",
              "    <tr>\n",
              "      <th>sex</th>\n",
              "      <td>0.00</td>\n",
              "    </tr>\n",
              "    <tr>\n",
              "      <th>age</th>\n",
              "      <td>29.70</td>\n",
              "    </tr>\n",
              "    <tr>\n",
              "      <th>sibsp</th>\n",
              "      <td>0.00</td>\n",
              "    </tr>\n",
              "    <tr>\n",
              "      <th>parch</th>\n",
              "      <td>0.00</td>\n",
              "    </tr>\n",
              "    <tr>\n",
              "      <th>fare</th>\n",
              "      <td>14.45</td>\n",
              "    </tr>\n",
              "    <tr>\n",
              "      <th>embarked</th>\n",
              "      <td>1.00</td>\n",
              "    </tr>\n",
              "  </tbody>\n",
              "</table>\n",
              "</div>"
            ],
            "text/plain": [
              "             0\n",
              "survived  0.00\n",
              "pclass    3.00\n",
              "sex       0.00\n",
              "age      29.70\n",
              "sibsp     0.00\n",
              "parch     0.00\n",
              "fare     14.45\n",
              "embarked  1.00"
            ]
          },
          "metadata": {
            "tags": []
          },
          "execution_count": 47
        }
      ]
    },
    {
      "cell_type": "markdown",
      "metadata": {
        "id": "9O-9MITedliL"
      },
      "source": [
        "### Measures of Dispersion"
      ]
    },
    {
      "cell_type": "code",
      "metadata": {
        "colab": {
          "base_uri": "https://localhost:8080/",
          "height": 268
        },
        "id": "tG6nCujs1tqA",
        "outputId": "e15f99a9-3971-4d55-c7c0-9cc80556c25b"
      },
      "source": [
        "#Range for the respective columns\n",
        "col = ['survived', 'pclass', 'sex', 'age', 'sibsp', 'parch', 'fare']\n",
        "\n",
        "x = {}\n",
        "\n",
        "for col in col:\n",
        "    x[col] = df[col].max()- df[col].min()\n",
        "z = pd.Series(x)\n",
        "z = z.to_numpy()\n",
        "z\n",
        "\n",
        "data = {'Criteria': ['survived', 'pclass', 'sex', 'age', 'sibsp', 'parch', 'fare'], \n",
        "       'The range is': [1.    ,   2.    ,   1.    ,  79.58  ,   8.    ,   6.    ,\n",
        "      512.3292]} \n",
        "modedf =pd.DataFrame(data)\n",
        "modedf"
      ],
      "execution_count": null,
      "outputs": [
        {
          "output_type": "execute_result",
          "data": {
            "text/html": [
              "<div>\n",
              "<style scoped>\n",
              "    .dataframe tbody tr th:only-of-type {\n",
              "        vertical-align: middle;\n",
              "    }\n",
              "\n",
              "    .dataframe tbody tr th {\n",
              "        vertical-align: top;\n",
              "    }\n",
              "\n",
              "    .dataframe thead th {\n",
              "        text-align: right;\n",
              "    }\n",
              "</style>\n",
              "<table border=\"1\" class=\"dataframe\">\n",
              "  <thead>\n",
              "    <tr style=\"text-align: right;\">\n",
              "      <th></th>\n",
              "      <th>Criteria</th>\n",
              "      <th>The range is</th>\n",
              "    </tr>\n",
              "  </thead>\n",
              "  <tbody>\n",
              "    <tr>\n",
              "      <th>0</th>\n",
              "      <td>survived</td>\n",
              "      <td>1.00</td>\n",
              "    </tr>\n",
              "    <tr>\n",
              "      <th>1</th>\n",
              "      <td>pclass</td>\n",
              "      <td>2.00</td>\n",
              "    </tr>\n",
              "    <tr>\n",
              "      <th>2</th>\n",
              "      <td>sex</td>\n",
              "      <td>1.00</td>\n",
              "    </tr>\n",
              "    <tr>\n",
              "      <th>3</th>\n",
              "      <td>age</td>\n",
              "      <td>79.58</td>\n",
              "    </tr>\n",
              "    <tr>\n",
              "      <th>4</th>\n",
              "      <td>sibsp</td>\n",
              "      <td>8.00</td>\n",
              "    </tr>\n",
              "    <tr>\n",
              "      <th>5</th>\n",
              "      <td>parch</td>\n",
              "      <td>6.00</td>\n",
              "    </tr>\n",
              "    <tr>\n",
              "      <th>6</th>\n",
              "      <td>fare</td>\n",
              "      <td>512.33</td>\n",
              "    </tr>\n",
              "  </tbody>\n",
              "</table>\n",
              "</div>"
            ],
            "text/plain": [
              "   Criteria  The range is\n",
              "0  survived          1.00\n",
              "1    pclass          2.00\n",
              "2       sex          1.00\n",
              "3       age         79.58\n",
              "4     sibsp          8.00\n",
              "5     parch          6.00\n",
              "6      fare        512.33"
            ]
          },
          "metadata": {
            "tags": []
          },
          "execution_count": 48
        }
      ]
    },
    {
      "cell_type": "markdown",
      "metadata": {
        "id": "l2x31JibFvRs"
      },
      "source": [
        "What is the spread from mean for each column. lets calculate standard deviation"
      ]
    },
    {
      "cell_type": "code",
      "metadata": {
        "colab": {
          "base_uri": "https://localhost:8080/",
          "height": 268
        },
        "id": "xSTDFnt21tqB",
        "outputId": "56b72389-227d-4960-ac64-227a26e353d0"
      },
      "source": [
        "# Standard Deviation\n",
        "# We will now calculate the standard deviation to check the spread of our data from the mean\n",
        "col = ['survived', 'pclass', 'sex', 'age', 'sibsp', 'parch', 'fare']\n",
        "x = {}\n",
        "for col in col:\n",
        "    x[col] = df[col].std()\n",
        "z = pd.Series(x)\n",
        "z = z.to_numpy()\n",
        "z\n",
        "\n",
        "data = {'Criteria': ['survived', 'pclass', 'sex', 'age', 'sibsp', 'parch', 'fare'], \n",
        "       'The standard deviation is': [ 0.48625969,  0.83469978,  0.47753789, 12.96836631,  1.10370488,\n",
        "       0.80676074, 49.69750432]} \n",
        "std =pd.DataFrame(data)\n",
        "std\n",
        "\n",
        "\n",
        "\n"
      ],
      "execution_count": null,
      "outputs": [
        {
          "output_type": "execute_result",
          "data": {
            "text/html": [
              "<div>\n",
              "<style scoped>\n",
              "    .dataframe tbody tr th:only-of-type {\n",
              "        vertical-align: middle;\n",
              "    }\n",
              "\n",
              "    .dataframe tbody tr th {\n",
              "        vertical-align: top;\n",
              "    }\n",
              "\n",
              "    .dataframe thead th {\n",
              "        text-align: right;\n",
              "    }\n",
              "</style>\n",
              "<table border=\"1\" class=\"dataframe\">\n",
              "  <thead>\n",
              "    <tr style=\"text-align: right;\">\n",
              "      <th></th>\n",
              "      <th>Criteria</th>\n",
              "      <th>The standard deviation is</th>\n",
              "    </tr>\n",
              "  </thead>\n",
              "  <tbody>\n",
              "    <tr>\n",
              "      <th>0</th>\n",
              "      <td>survived</td>\n",
              "      <td>0.49</td>\n",
              "    </tr>\n",
              "    <tr>\n",
              "      <th>1</th>\n",
              "      <td>pclass</td>\n",
              "      <td>0.83</td>\n",
              "    </tr>\n",
              "    <tr>\n",
              "      <th>2</th>\n",
              "      <td>sex</td>\n",
              "      <td>0.48</td>\n",
              "    </tr>\n",
              "    <tr>\n",
              "      <th>3</th>\n",
              "      <td>age</td>\n",
              "      <td>12.97</td>\n",
              "    </tr>\n",
              "    <tr>\n",
              "      <th>4</th>\n",
              "      <td>sibsp</td>\n",
              "      <td>1.10</td>\n",
              "    </tr>\n",
              "    <tr>\n",
              "      <th>5</th>\n",
              "      <td>parch</td>\n",
              "      <td>0.81</td>\n",
              "    </tr>\n",
              "    <tr>\n",
              "      <th>6</th>\n",
              "      <td>fare</td>\n",
              "      <td>49.70</td>\n",
              "    </tr>\n",
              "  </tbody>\n",
              "</table>\n",
              "</div>"
            ],
            "text/plain": [
              "   Criteria  The standard deviation is\n",
              "0  survived                       0.49\n",
              "1    pclass                       0.83\n",
              "2       sex                       0.48\n",
              "3       age                      12.97\n",
              "4     sibsp                       1.10\n",
              "5     parch                       0.81\n",
              "6      fare                      49.70"
            ]
          },
          "metadata": {
            "tags": []
          },
          "execution_count": 49
        }
      ]
    },
    {
      "cell_type": "markdown",
      "metadata": {
        "id": "kmjyeUnqGI26"
      },
      "source": [
        "Lets calculate the average squared deviation of each number from the mean of the data set"
      ]
    },
    {
      "cell_type": "code",
      "metadata": {
        "colab": {
          "base_uri": "https://localhost:8080/",
          "height": 268
        },
        "id": "j7En8hYb1tqC",
        "outputId": "1d745a17-010a-413f-c979-239f31551b68"
      },
      "source": [
        "#Variance\n",
        "# We will now calculate the Variance to check the spread of our data from the mean\n",
        "#\n",
        "#\n",
        "col = ['survived', 'pclass', 'sex', 'age', 'sibsp', 'parch', 'fare']\n",
        "x = {}\n",
        "for col in col:\n",
        "    x[col] = df[col].var()\n",
        "z = pd.Series(x)\n",
        "z = z.to_numpy()\n",
        "z\n",
        "\n",
        "data = {'Criteria': ['survived', 'pclass', 'sex', 'age', 'sibsp', 'parch', 'fare'], \n",
        "         'The variance is': [2.36448484e-01, 6.96723720e-01, 2.28042441e-01, 1.68178525e+02,\n",
        "      1.21816445e+00, 6.50862899e-01, 2.46984194e+03]} \n",
        "var =pd.DataFrame(data)\n",
        "var\n"
      ],
      "execution_count": null,
      "outputs": [
        {
          "output_type": "execute_result",
          "data": {
            "text/html": [
              "<div>\n",
              "<style scoped>\n",
              "    .dataframe tbody tr th:only-of-type {\n",
              "        vertical-align: middle;\n",
              "    }\n",
              "\n",
              "    .dataframe tbody tr th {\n",
              "        vertical-align: top;\n",
              "    }\n",
              "\n",
              "    .dataframe thead th {\n",
              "        text-align: right;\n",
              "    }\n",
              "</style>\n",
              "<table border=\"1\" class=\"dataframe\">\n",
              "  <thead>\n",
              "    <tr style=\"text-align: right;\">\n",
              "      <th></th>\n",
              "      <th>Criteria</th>\n",
              "      <th>The variance is</th>\n",
              "    </tr>\n",
              "  </thead>\n",
              "  <tbody>\n",
              "    <tr>\n",
              "      <th>0</th>\n",
              "      <td>survived</td>\n",
              "      <td>0.24</td>\n",
              "    </tr>\n",
              "    <tr>\n",
              "      <th>1</th>\n",
              "      <td>pclass</td>\n",
              "      <td>0.70</td>\n",
              "    </tr>\n",
              "    <tr>\n",
              "      <th>2</th>\n",
              "      <td>sex</td>\n",
              "      <td>0.23</td>\n",
              "    </tr>\n",
              "    <tr>\n",
              "      <th>3</th>\n",
              "      <td>age</td>\n",
              "      <td>168.18</td>\n",
              "    </tr>\n",
              "    <tr>\n",
              "      <th>4</th>\n",
              "      <td>sibsp</td>\n",
              "      <td>1.22</td>\n",
              "    </tr>\n",
              "    <tr>\n",
              "      <th>5</th>\n",
              "      <td>parch</td>\n",
              "      <td>0.65</td>\n",
              "    </tr>\n",
              "    <tr>\n",
              "      <th>6</th>\n",
              "      <td>fare</td>\n",
              "      <td>2469.84</td>\n",
              "    </tr>\n",
              "  </tbody>\n",
              "</table>\n",
              "</div>"
            ],
            "text/plain": [
              "   Criteria  The variance is\n",
              "0  survived             0.24\n",
              "1    pclass             0.70\n",
              "2       sex             0.23\n",
              "3       age           168.18\n",
              "4     sibsp             1.22\n",
              "5     parch             0.65\n",
              "6      fare          2469.84"
            ]
          },
          "metadata": {
            "tags": []
          },
          "execution_count": 50
        }
      ]
    },
    {
      "cell_type": "code",
      "metadata": {
        "colab": {
          "base_uri": "https://localhost:8080/",
          "height": 268
        },
        "id": "40Ajkifc1tqD",
        "outputId": "cf05cadf-42ca-43dc-9e08-83705ed7bb32"
      },
      "source": [
        "#Kurtosis\n",
        "# We will now calculate the Kurtosis to check the spread of our data\n",
        "col = ['survived', 'pclass', 'sex', 'age', 'sibsp', 'parch', 'fare']\n",
        "x = {}\n",
        "\n",
        "for col in col:\n",
        "    x[col] = df[col].kurt()\n",
        "z = pd.Series(x)\n",
        "z = z.to_numpy()\n",
        "z\n",
        "\n",
        "data = {'Criteria': ['survived', 'pclass', 'sex', 'age', 'sibsp', 'parch', 'fare'], \n",
        "         'The kurtosis is': [-1.76917945, -1.26943748, -1.61222491,  0.97900655, 17.83897238,\n",
        "       9.75059171, 33.50847727]} \n",
        "kurt =pd.DataFrame(data)\n",
        "kurt\n"
      ],
      "execution_count": null,
      "outputs": [
        {
          "output_type": "execute_result",
          "data": {
            "text/html": [
              "<div>\n",
              "<style scoped>\n",
              "    .dataframe tbody tr th:only-of-type {\n",
              "        vertical-align: middle;\n",
              "    }\n",
              "\n",
              "    .dataframe tbody tr th {\n",
              "        vertical-align: top;\n",
              "    }\n",
              "\n",
              "    .dataframe thead th {\n",
              "        text-align: right;\n",
              "    }\n",
              "</style>\n",
              "<table border=\"1\" class=\"dataframe\">\n",
              "  <thead>\n",
              "    <tr style=\"text-align: right;\">\n",
              "      <th></th>\n",
              "      <th>Criteria</th>\n",
              "      <th>The kurtosis is</th>\n",
              "    </tr>\n",
              "  </thead>\n",
              "  <tbody>\n",
              "    <tr>\n",
              "      <th>0</th>\n",
              "      <td>survived</td>\n",
              "      <td>-1.77</td>\n",
              "    </tr>\n",
              "    <tr>\n",
              "      <th>1</th>\n",
              "      <td>pclass</td>\n",
              "      <td>-1.27</td>\n",
              "    </tr>\n",
              "    <tr>\n",
              "      <th>2</th>\n",
              "      <td>sex</td>\n",
              "      <td>-1.61</td>\n",
              "    </tr>\n",
              "    <tr>\n",
              "      <th>3</th>\n",
              "      <td>age</td>\n",
              "      <td>0.98</td>\n",
              "    </tr>\n",
              "    <tr>\n",
              "      <th>4</th>\n",
              "      <td>sibsp</td>\n",
              "      <td>17.84</td>\n",
              "    </tr>\n",
              "    <tr>\n",
              "      <th>5</th>\n",
              "      <td>parch</td>\n",
              "      <td>9.75</td>\n",
              "    </tr>\n",
              "    <tr>\n",
              "      <th>6</th>\n",
              "      <td>fare</td>\n",
              "      <td>33.51</td>\n",
              "    </tr>\n",
              "  </tbody>\n",
              "</table>\n",
              "</div>"
            ],
            "text/plain": [
              "   Criteria  The kurtosis is\n",
              "0  survived            -1.77\n",
              "1    pclass            -1.27\n",
              "2       sex            -1.61\n",
              "3       age             0.98\n",
              "4     sibsp            17.84\n",
              "5     parch             9.75\n",
              "6      fare            33.51"
            ]
          },
          "metadata": {
            "tags": []
          },
          "execution_count": 51
        }
      ]
    },
    {
      "cell_type": "markdown",
      "metadata": {
        "id": "bZ1VsKFnGgoj"
      },
      "source": [
        "Our columns seem to have high kurotsis. This may be an indication of to the data having heavy tails, or outliers.\n",
        "\n",
        "The age and t4u columns seems to be normally distributed. Lets have a closer look in the visualizations below"
      ]
    },
    {
      "cell_type": "code",
      "metadata": {
        "colab": {
          "base_uri": "https://localhost:8080/",
          "height": 268
        },
        "id": "YPQUEwp01tqD",
        "outputId": "54df31ff-ef22-4c10-a7bd-7b2a7fb67437"
      },
      "source": [
        "# #Skewness\n",
        "# # We will now calculate the Skewness to check the spread of our data\n",
        "\n",
        "x = {}\n",
        "col = ['survived', 'pclass', 'sex', 'age', 'sibsp', 'parch', 'fare']\n",
        "for col in col:\n",
        "    x[col] = df[col].skew()\n",
        "z = pd.Series(x)\n",
        "z = z.to_numpy()\n",
        "z\n",
        "\n",
        "data = {'Criteria': ['survived', 'pclass', 'sex', 'age', 'sibsp', 'parch', 'fare'], \n",
        "         'The Skew is': [0.48456763, -0.63699776,  0.62562546,  0.43172026,  3.69105763,\n",
        "       2.74516013,  4.80144021]}\n",
        " \n",
        "skew =pd.DataFrame(data)\n",
        "skew\n"
      ],
      "execution_count": null,
      "outputs": [
        {
          "output_type": "execute_result",
          "data": {
            "text/html": [
              "<div>\n",
              "<style scoped>\n",
              "    .dataframe tbody tr th:only-of-type {\n",
              "        vertical-align: middle;\n",
              "    }\n",
              "\n",
              "    .dataframe tbody tr th {\n",
              "        vertical-align: top;\n",
              "    }\n",
              "\n",
              "    .dataframe thead th {\n",
              "        text-align: right;\n",
              "    }\n",
              "</style>\n",
              "<table border=\"1\" class=\"dataframe\">\n",
              "  <thead>\n",
              "    <tr style=\"text-align: right;\">\n",
              "      <th></th>\n",
              "      <th>Criteria</th>\n",
              "      <th>The Skew is</th>\n",
              "    </tr>\n",
              "  </thead>\n",
              "  <tbody>\n",
              "    <tr>\n",
              "      <th>0</th>\n",
              "      <td>survived</td>\n",
              "      <td>0.48</td>\n",
              "    </tr>\n",
              "    <tr>\n",
              "      <th>1</th>\n",
              "      <td>pclass</td>\n",
              "      <td>-0.64</td>\n",
              "    </tr>\n",
              "    <tr>\n",
              "      <th>2</th>\n",
              "      <td>sex</td>\n",
              "      <td>0.63</td>\n",
              "    </tr>\n",
              "    <tr>\n",
              "      <th>3</th>\n",
              "      <td>age</td>\n",
              "      <td>0.43</td>\n",
              "    </tr>\n",
              "    <tr>\n",
              "      <th>4</th>\n",
              "      <td>sibsp</td>\n",
              "      <td>3.69</td>\n",
              "    </tr>\n",
              "    <tr>\n",
              "      <th>5</th>\n",
              "      <td>parch</td>\n",
              "      <td>2.75</td>\n",
              "    </tr>\n",
              "    <tr>\n",
              "      <th>6</th>\n",
              "      <td>fare</td>\n",
              "      <td>4.80</td>\n",
              "    </tr>\n",
              "  </tbody>\n",
              "</table>\n",
              "</div>"
            ],
            "text/plain": [
              "   Criteria  The Skew is\n",
              "0  survived         0.48\n",
              "1    pclass        -0.64\n",
              "2       sex         0.63\n",
              "3       age         0.43\n",
              "4     sibsp         3.69\n",
              "5     parch         2.75\n",
              "6      fare         4.80"
            ]
          },
          "metadata": {
            "tags": []
          },
          "execution_count": 52
        }
      ]
    },
    {
      "cell_type": "markdown",
      "metadata": {
        "id": "n-jOjemKHVn2"
      },
      "source": [
        "In such a distribution, usually (but not always) the mean is greater than the median, or equivalently, the mean is greater than the mode; in which case the skewness is greater than zero.\n",
        "\n",
        "Only age has a negative skew in our data"
      ]
    },
    {
      "cell_type": "markdown",
      "metadata": {
        "id": "WjrvNfQNnnBR"
      },
      "source": [
        "###Visualisation"
      ]
    },
    {
      "cell_type": "markdown",
      "metadata": {
        "id": "_3yhfW6wnwtL"
      },
      "source": [
        "###Univariate"
      ]
    },
    {
      "cell_type": "code",
      "metadata": {
        "colab": {
          "base_uri": "https://localhost:8080/"
        },
        "id": "2fu-cDBuoJL0",
        "outputId": "eabd07ee-5ef1-4e80-e7ca-9227c6ab7f1b"
      },
      "source": [
        "\n",
        "df.hist(bins=10, figsize=(15,15))\n",
        "plt.suptitle(\"Histogram showing distribution of column values\")\n",
        "plt.savefig('Histogram')\n",
        "plt.show()"
      ],
      "execution_count": null,
      "outputs": [
        {
          "output_type": "display_data",
          "data": {
            "image/png": "[encoded data removed]",
            "text/plain": [
              "<Figure size 1080x1080 with 9 Axes>"
            ]
          },
          "metadata": {
            "tags": [],
            "needs_background": "light"
          }
        }
      ]
    },
    {
      "cell_type": "markdown",
      "metadata": {
        "id": "knUA5xptHoia"
      },
      "source": [
        "Lets have a closer look of the distribution here below"
      ]
    },
    {
      "cell_type": "code",
      "metadata": {
        "colab": {
          "base_uri": "https://localhost:8080/"
        },
        "id": "fAxzk3S31tqF",
        "outputId": "684873d1-1150-4026-ba63-2cb54549cf93"
      },
      "source": [
        "\n",
        "col_names = ['survived', 'pclass', 'sex', 'age', 'sibsp', 'parch', 'fare',\n",
        "       'embarked']\n",
        "fig, ax = plt.subplots(len(col_names), figsize = (10,100))\n",
        "for i, col_val in enumerate(col_names):\n",
        "\n",
        "    sns.histplot(x = df[col_val], ax=ax[i])\n",
        "    ax[i].set_title('Distribution of the {} column'.format(col_val), fontsize=14)\n",
        "    ax[i].set_xlabel(col_val, fontsize=14)\n",
        "    ax[i].figure.tight_layout(pad=3.0)\n",
        "plt.show()"
      ],
      "execution_count": null,
      "outputs": [
        {
          "output_type": "display_data",
          "data": {
            "image/png": "[encoded data removed]",
            "text/plain": [
              "<Figure size 720x7200 with 8 Axes>"
            ]
          },
          "metadata": {
            "tags": [],
            "needs_background": "light"
          }
        }
      ]
    },
    {
      "cell_type": "markdown",
      "metadata": {
        "id": "SSeGYvHlS2xx"
      },
      "source": [
        "###Bivariate"
      ]
    },
    {
      "cell_type": "markdown",
      "metadata": {
        "id": "s6j1fm59pT5y"
      },
      "source": [
        "Lets find out what effect of the independent variables have on survival of passengers"
      ]
    },
    {
      "cell_type": "markdown",
      "metadata": {
        "id": "onKQV9N8pgMe"
      },
      "source": [
        "Our independent variables are;\n",
        " \n",
        "\n",
        "1. embarked\n",
        "2.  pclass\n",
        "3.  sex\n",
        "4.  age\n",
        "5.  sibsp\n",
        "6.  parch\n",
        "7.  fare\n"
      ]
    },
    {
      "cell_type": "code",
      "metadata": {
        "colab": {
          "base_uri": "https://localhost:8080/"
        },
        "id": "eUHDd-SEqcha",
        "outputId": "d36d9c2c-e010-4c8b-b760-5bdbdbbd21dc"
      },
      "source": [
        "sns.catplot(\"survived\", col=\"pclass\", col_wrap=4, data=df, kind=\"count\", height=6, aspect=.8, palette='Blues')\n",
        "sns.catplot(\"survived\", col=\"sex\", col_wrap=4, data=df, kind=\"count\", height=6, aspect=.8, palette='Blues')\n",
        "sns.catplot(\"survived\", col=\"embarked\", col_wrap=4, data=df, kind=\"count\", height=6, aspect=.8, palette='Blues')\n",
        "\n",
        "\n",
        "plt.show()"
      ],
      "execution_count": null,
      "outputs": [
        {
          "output_type": "display_data",
          "data": {
            "image/png": "[encoded data removed]",
            "text/plain": [
              "<Figure size 1382.4x432 with 3 Axes>"
            ]
          },
          "metadata": {
            "tags": [],
            "needs_background": "light"
          }
        },
        {
          "output_type": "display_data",
          "data": {
            "image/png": "[encoded data removed]",
            "text/plain": [
              "<Figure size 1382.4x432 with 2 Axes>"
            ]
          },
          "metadata": {
            "tags": [],
            "needs_background": "light"
          }
        },
        {
          "output_type": "display_data",
          "data": {
            "image/png": "[encoded data removed]",
            "text/plain": [
              "<Figure size 1382.4x432 with 3 Axes>"
            ]
          },
          "metadata": {
            "tags": [],
            "needs_background": "light"
          }
        }
      ]
    },
    {
      "cell_type": "code",
      "metadata": {
        "colab": {
          "base_uri": "https://localhost:8080/"
        },
        "id": "lu1Z-lWDQNBD",
        "outputId": "95e28d93-db2a-4bff-aea1-b36face5c91f"
      },
      "source": [
        "\n",
        "# Plotting histogram to show distribution of survival as compared to age\n",
        "# \n",
        "dies = df.loc[df.survived==0, 'age']    # Selecting only negative datapoints in the age column\n",
        "survives = df.loc[df.survived==1, 'age']  # Selecting only positive datapoints in the age column\n",
        "\n",
        "\n",
        "\n",
        "# Plotting the histograms\n",
        "#\n",
        "plt.figure(figsize=(12,7))\n",
        "sns.distplot(dies, color=\"red\", label=\"Dies\")\n",
        "sns.distplot(survives, color=\"green\", label=\"Survived\")\n",
        "plt.title('Distribution of Survived passengers as compared to age', fontsize = 14, color = 'k')\n",
        "plt.xlabel('age', fontsize = 13, color = 'k')\n",
        "plt.ylabel('Frequency', fontsize = 13, color = 'k')\n",
        "plt.legend()\n",
        "plt.show()"
      ],
      "execution_count": null,
      "outputs": [
        {
          "output_type": "display_data",
          "data": {
            "image/png": "[encoded data removed]",
            "text/plain": [
              "<Figure size 864x504 with 1 Axes>"
            ]
          },
          "metadata": {
            "tags": [],
            "needs_background": "light"
          }
        }
      ]
    },
    {
      "cell_type": "code",
      "metadata": {
        "colab": {
          "base_uri": "https://localhost:8080/"
        },
        "id": "rehtK72zzwFv",
        "outputId": "de6d9c6e-7e1c-4348-e7f6-b6da476df340"
      },
      "source": [
        "\n",
        "# Plotting histogram to show distribution of survival as compared to fare paid\n",
        "# \n",
        "dies = df.loc[df.survived==0, 'fare']    # Selecting only negative datapoints in the age column\n",
        "survives = df.loc[df.survived==1, 'fare']  # Selecting only positive datapoints in the age column\n",
        "\n",
        "\n",
        "\n",
        "# Plotting the histograms\n",
        "#\n",
        "plt.figure(figsize=(12,7))\n",
        "sns.distplot(dies, color=\"red\", label=\"Dies\")\n",
        "sns.distplot(survives, color=\"green\", label=\"Survived\")\n",
        "plt.title('Distribution of Survived passengers as compared to the fare paid', fontsize = 14, color = 'k')\n",
        "plt.xlabel('Fare paid', fontsize = 13, color = 'k')\n",
        "plt.ylabel('Frequency', fontsize = 13, color = 'k')\n",
        "plt.legend()\n",
        "plt.show()"
      ],
      "execution_count": null,
      "outputs": [
        {
          "output_type": "display_data",
          "data": {
            "image/png": "[encoded data removed]",
            "text/plain": [
              "<Figure size 864x504 with 1 Axes>"
            ]
          },
          "metadata": {
            "tags": [],
            "needs_background": "light"
          }
        }
      ]
    },
    {
      "cell_type": "code",
      "metadata": {
        "colab": {
          "base_uri": "https://localhost:8080/"
        },
        "id": "dOP3PzJq0AwL",
        "outputId": "74645765-c085-4c17-9af0-546af9453f78"
      },
      "source": [
        "\n",
        "# Plotting histogram to show distribution of survival as compared to Pclass\n",
        "# \n",
        "dies = df.loc[df.survived==0, 'pclass']    # Selecting only negative datapoints in the age column\n",
        "survives = df.loc[df.survived==1, 'pclass']  # Selecting only positive datapoints in the age column\n",
        "\n",
        "\n",
        "\n",
        "# Plotting the histograms\n",
        "#\n",
        "plt.figure(figsize=(12,7))\n",
        "sns.distplot(dies, color=\"red\", label=\"Dies\")\n",
        "sns.distplot(survives, color=\"green\", label=\"Survived\")\n",
        "plt.title('Distribution of Survived passengers as compared to Pclass', fontsize = 14, color = 'k')\n",
        "plt.xlabel('Passenger class', fontsize = 13, color = 'k')\n",
        "plt.ylabel('Frequency', fontsize = 13, color = 'k')\n",
        "plt.legend()\n",
        "plt.show()"
      ],
      "execution_count": null,
      "outputs": [
        {
          "output_type": "display_data",
          "data": {
            "image/png": "[encoded data removed]",
            "text/plain": [
              "<Figure size 864x504 with 1 Axes>"
            ]
          },
          "metadata": {
            "tags": [],
            "needs_background": "light"
          }
        }
      ]
    },
    {
      "cell_type": "code",
      "metadata": {
        "colab": {
          "base_uri": "https://localhost:8080/"
        },
        "id": "Jru1e_zN0oog",
        "outputId": "d220f58a-3ff5-45e1-af5f-b39e0ebe399f"
      },
      "source": [
        "# Plotting histogram to show distribution of survival as compared to Pclass\n",
        "# \n",
        "dies = df.loc[df.survived==0, 'sibsp']    # Selecting only negative datapoints in the age column\n",
        "survives = df.loc[df.survived==1, 'sibsp']  # Selecting only positive datapoints in the age column\n",
        "\n",
        "\n",
        "\n",
        "# Plotting the histograms\n",
        "#\n",
        "plt.figure(figsize=(12,7))\n",
        "sns.distplot(dies, color=\"red\", label=\"Dies\")\n",
        "sns.distplot(survives, color=\"green\", label=\"Survived\")\n",
        "plt.title('Distribution of Survived passengers as compared to sibsp', fontsize = 14, color = 'k')\n",
        "plt.xlabel('sibsp', fontsize = 13, color = 'k')\n",
        "plt.ylabel('Frequency', fontsize = 13, color = 'k')\n",
        "plt.legend()\n",
        "plt.show()"
      ],
      "execution_count": null,
      "outputs": [
        {
          "output_type": "display_data",
          "data": {
            "image/png": "[encoded data removed]",
            "text/plain": [
              "<Figure size 864x504 with 1 Axes>"
            ]
          },
          "metadata": {
            "tags": [],
            "needs_background": "light"
          }
        }
      ]
    },
    {
      "cell_type": "code",
      "metadata": {
        "colab": {
          "base_uri": "https://localhost:8080/"
        },
        "id": "jbf0Y9Kp07sf",
        "outputId": "0b2382b8-d97d-4efa-ecd5-c2144372be64"
      },
      "source": [
        "# Plotting histogram to show distribution of survival as compared to Pclass\n",
        "# \n",
        "dies = df.loc[df.survived==0, 'parch']    # Selecting only negative datapoints in the age column\n",
        "survives = df.loc[df.survived==1, 'parch']  # Selecting only positive datapoints in the age column\n",
        "\n",
        "\n",
        "\n",
        "# Plotting the histograms\n",
        "#\n",
        "plt.figure(figsize=(12,7))\n",
        "sns.distplot(dies, color=\"red\", label=\"Died\")\n",
        "sns.distplot(survives, color=\"green\", label=\"Survived\")\n",
        "plt.title('Distribution of Survived passengers as compared to parch', fontsize = 14, color = 'k')\n",
        "plt.xlabel('parch', fontsize = 13, color = 'k')\n",
        "plt.ylabel('Frequency', fontsize = 13, color = 'k')\n",
        "plt.legend()\n",
        "plt.show()"
      ],
      "execution_count": null,
      "outputs": [
        {
          "output_type": "display_data",
          "data": {
            "image/png": "[encoded data removed]",
            "text/plain": [
              "<Figure size 864x504 with 1 Axes>"
            ]
          },
          "metadata": {
            "tags": [],
            "needs_background": "light"
          }
        }
      ]
    },
    {
      "cell_type": "markdown",
      "metadata": {
        "id": "Y0Ng82WKKQKA"
      },
      "source": [
        "Checking for Multi-Collinearity The key goal of regression analysis is to isolate the relationship between each independent variables and the independent variable. The coefficient estimates can swing wildly based on which other independent variables are in the model. Multi-collinearity reduces the precision of the estimate co-efficients which weakens the statistical power of the regression model and that is why it is important for us to remove the multicollinear variables to be able to build an efficient model."
      ]
    },
    {
      "cell_type": "code",
      "metadata": {
        "colab": {
          "base_uri": "https://localhost:8080/"
        },
        "id": "Egk4J89-P9JU",
        "outputId": "38c71354-b51c-4431-e2cf-3b5794ceecf7"
      },
      "source": [
        "\n",
        "#Creating a dataframe for the correlations in our dataset.\n",
        "correlations = df.corr()\n",
        "correlations"
      ],
      "execution_count": null,
      "outputs": [
        {
          "output_type": "execute_result",
          "data": {
            "text/html": [
              "<div>\n",
              "<style scoped>\n",
              "    .dataframe tbody tr th:only-of-type {\n",
              "        vertical-align: middle;\n",
              "    }\n",
              "\n",
              "    .dataframe tbody tr th {\n",
              "        vertical-align: top;\n",
              "    }\n",
              "\n",
              "    .dataframe thead th {\n",
              "        text-align: right;\n",
              "    }\n",
              "</style>\n",
              "<table border=\"1\" class=\"dataframe\">\n",
              "  <thead>\n",
              "    <tr style=\"text-align: right;\">\n",
              "      <th></th>\n",
              "      <th>survived</th>\n",
              "      <th>pclass</th>\n",
              "      <th>sex</th>\n",
              "      <th>age</th>\n",
              "      <th>sibsp</th>\n",
              "      <th>parch</th>\n",
              "      <th>fare</th>\n",
              "      <th>embarked</th>\n",
              "    </tr>\n",
              "  </thead>\n",
              "  <tbody>\n",
              "    <tr>\n",
              "      <th>survived</th>\n",
              "      <td>1.00</td>\n",
              "      <td>-0.34</td>\n",
              "      <td>0.54</td>\n",
              "      <td>-0.07</td>\n",
              "      <td>-0.03</td>\n",
              "      <td>0.08</td>\n",
              "      <td>0.26</td>\n",
              "      <td>0.13</td>\n",
              "    </tr>\n",
              "    <tr>\n",
              "      <th>pclass</th>\n",
              "      <td>-0.34</td>\n",
              "      <td>1.00</td>\n",
              "      <td>-0.13</td>\n",
              "      <td>-0.33</td>\n",
              "      <td>0.08</td>\n",
              "      <td>0.02</td>\n",
              "      <td>-0.55</td>\n",
              "      <td>-0.31</td>\n",
              "    </tr>\n",
              "    <tr>\n",
              "      <th>sex</th>\n",
              "      <td>0.54</td>\n",
              "      <td>-0.13</td>\n",
              "      <td>1.00</td>\n",
              "      <td>-0.09</td>\n",
              "      <td>0.12</td>\n",
              "      <td>0.25</td>\n",
              "      <td>0.18</td>\n",
              "      <td>0.02</td>\n",
              "    </tr>\n",
              "    <tr>\n",
              "      <th>age</th>\n",
              "      <td>-0.07</td>\n",
              "      <td>-0.33</td>\n",
              "      <td>-0.09</td>\n",
              "      <td>1.00</td>\n",
              "      <td>-0.23</td>\n",
              "      <td>-0.18</td>\n",
              "      <td>0.09</td>\n",
              "      <td>0.03</td>\n",
              "    </tr>\n",
              "    <tr>\n",
              "      <th>sibsp</th>\n",
              "      <td>-0.03</td>\n",
              "      <td>0.08</td>\n",
              "      <td>0.12</td>\n",
              "      <td>-0.23</td>\n",
              "      <td>1.00</td>\n",
              "      <td>0.41</td>\n",
              "      <td>0.16</td>\n",
              "      <td>-0.03</td>\n",
              "    </tr>\n",
              "    <tr>\n",
              "      <th>parch</th>\n",
              "      <td>0.08</td>\n",
              "      <td>0.02</td>\n",
              "      <td>0.25</td>\n",
              "      <td>-0.18</td>\n",
              "      <td>0.41</td>\n",
              "      <td>1.00</td>\n",
              "      <td>0.22</td>\n",
              "      <td>0.04</td>\n",
              "    </tr>\n",
              "    <tr>\n",
              "      <th>fare</th>\n",
              "      <td>0.26</td>\n",
              "      <td>-0.55</td>\n",
              "      <td>0.18</td>\n",
              "      <td>0.09</td>\n",
              "      <td>0.16</td>\n",
              "      <td>0.22</td>\n",
              "      <td>1.00</td>\n",
              "      <td>0.27</td>\n",
              "    </tr>\n",
              "    <tr>\n",
              "      <th>embarked</th>\n",
              "      <td>0.13</td>\n",
              "      <td>-0.31</td>\n",
              "      <td>0.02</td>\n",
              "      <td>0.03</td>\n",
              "      <td>-0.03</td>\n",
              "      <td>0.04</td>\n",
              "      <td>0.27</td>\n",
              "      <td>1.00</td>\n",
              "    </tr>\n",
              "  </tbody>\n",
              "</table>\n",
              "</div>"
            ],
            "text/plain": [
              "          survived  pclass   sex   age  sibsp  parch  fare  embarked\n",
              "survived      1.00   -0.34  0.54 -0.07  -0.03   0.08  0.26      0.13\n",
              "pclass       -0.34    1.00 -0.13 -0.33   0.08   0.02 -0.55     -0.31\n",
              "sex           0.54   -0.13  1.00 -0.09   0.12   0.25  0.18      0.02\n",
              "age          -0.07   -0.33 -0.09  1.00  -0.23  -0.18  0.09      0.03\n",
              "sibsp        -0.03    0.08  0.12 -0.23   1.00   0.41  0.16     -0.03\n",
              "parch         0.08    0.02  0.25 -0.18   0.41   1.00  0.22      0.04\n",
              "fare          0.26   -0.55  0.18  0.09   0.16   0.22  1.00      0.27\n",
              "embarked      0.13   -0.31  0.02  0.03  -0.03   0.04  0.27      1.00"
            ]
          },
          "metadata": {
            "tags": []
          },
          "execution_count": 61
        }
      ]
    },
    {
      "cell_type": "markdown",
      "metadata": {
        "id": "pZqauyH0n9Tw"
      },
      "source": [
        "We can see that several columns have linear correlation"
      ]
    },
    {
      "cell_type": "code",
      "metadata": {
        "colab": {
          "base_uri": "https://localhost:8080/"
        },
        "id": "a_tmyG0VQEJ-",
        "outputId": "f27ad14d-a0df-4735-b8b3-fc1f307b7d42"
      },
      "source": [
        "\n",
        "#Visualzing the correlations in our dataset\n",
        "plt.figure(figsize = (23, 8))\n",
        "sns.heatmap(correlations, annot = True, center = 0,cmap=\"Blues\")\n",
        "plt.title('Correlations Visualization', fontsize = 15)\n",
        "plt.show()"
      ],
      "execution_count": null,
      "outputs": [
        {
          "output_type": "display_data",
          "data": {
            "image/png": "[encoded data removed]",
            "text/plain": [
              "<Figure size 1656x576 with 2 Axes>"
            ]
          },
          "metadata": {
            "tags": [],
            "needs_background": "light"
          }
        }
      ]
    },
    {
      "cell_type": "markdown",
      "metadata": {
        "id": "JINyZER2XEWU"
      },
      "source": [
        "As the classes increase that is (1-3) the fare also increases thus having the negative correlation of -0.55. This means there is a relation between fare and pclass.\n",
        "There is also a slight correlation between fare and family size of 0.22.\n",
        "There is also a slight correlation between fare and one's survival of 0.26.\n",
        "There is also a slight correlation of age and pclass. Meaning the aged individuals were better economically thus boarding on the first class.\n",
        "There is also a correlation between one's survival and pclass. Meaning th well economic individuals were given priority."
      ]
    },
    {
      "cell_type": "code",
      "metadata": {
        "colab": {
          "base_uri": "https://localhost:8080/"
        },
        "id": "lPNePvWVQ1qH",
        "outputId": "3fc92214-46a5-4c91-97ab-ab3932079ac8"
      },
      "source": [
        "#Visualzing the VIF Score\n",
        "\n",
        "vif = pd.DataFrame(np.linalg.inv(correlations.values),index=correlations.index,columns=correlations.columns )\n",
        "plt.figure(figsize = (23, 8))\n",
        "sns.heatmap(vif, annot = True, center = 0, cmap=\"Blues\")\n",
        "plt.title('VIF Visualization', fontsize = 15)\n",
        "plt.show()"
      ],
      "execution_count": null,
      "outputs": [
        {
          "output_type": "display_data",
          "data": {
            "image/png": "[encoded data removed]",
            "text/plain": [
              "<Figure size 1656x576 with 2 Axes>"
            ]
          },
          "metadata": {
            "tags": [],
            "needs_background": "light"
          }
        }
      ]
    },
    {
      "cell_type": "markdown",
      "metadata": {
        "id": "BBZGwJaBzXXo"
      },
      "source": [
        "There is no multi-collinearity in our independent variables."
      ]
    },
    {
      "cell_type": "markdown",
      "metadata": {
        "id": "ddVfnPGAt7IX"
      },
      "source": [
        "##6. Implementing the solution KNN"
      ]
    },
    {
      "cell_type": "markdown",
      "metadata": {
        "id": "U9aavzShz4j2"
      },
      "source": [
        "The K Nearest Neighbors commonly known as the k-NN is a type of instance based learning, or lazy learning where the function is only approximated locally and all computation is deferred until function evaluation.\n",
        "\n",
        "The k-NN is a non parametric method that does not make any assumptions of the underlying data distribution. Therefore we need no prior fitting or transformation of the data. But we will standardize our numerical columns for better analysis."
      ]
    },
    {
      "cell_type": "markdown",
      "metadata": {
        "id": "hqXYjX3xHV8l"
      },
      "source": [
        "###Baseline Model - 80/20 split"
      ]
    },
    {
      "cell_type": "markdown",
      "metadata": {
        "id": "jXgyd839Lin0"
      },
      "source": [
        "Lets attempt to fit the data to the base model"
      ]
    },
    {
      "cell_type": "code",
      "metadata": {
        "colab": {
          "base_uri": "https://localhost:8080/"
        },
        "id": "ExOTUOaE30U4",
        "outputId": "ff50ff8f-38e7-448e-86df-e497222f78f3"
      },
      "source": [
        "df.columns"
      ],
      "execution_count": null,
      "outputs": [
        {
          "output_type": "execute_result",
          "data": {
            "text/plain": [
              "Index(['survived', 'pclass', 'sex', 'age', 'sibsp', 'parch', 'fare',\n",
              "       'embarked'],\n",
              "      dtype='object')"
            ]
          },
          "metadata": {
            "tags": []
          },
          "execution_count": 64
        }
      ]
    },
    {
      "cell_type": "code",
      "metadata": {
        "colab": {
          "base_uri": "https://localhost:8080/"
        },
        "id": "lApo2Vp0GiIN",
        "outputId": "186fc7ee-abf0-480a-ea68-e1966ec68218"
      },
      "source": [
        "# split the data into labels and features\n",
        "\n",
        "X = df[['pclass', 'sex', 'age', 'sibsp', 'parch', 'fare','embarked']]\n",
        "y = df['survived']\n",
        "\n",
        "# standardizing the data\n",
        "from sklearn.preprocessing import StandardScaler\n",
        "\n",
        "scaler = StandardScaler()\n",
        "\n",
        "scaler.fit_transform(X)\n",
        "\n",
        "\n",
        "# splitting into train an test sets\n",
        "\n",
        "X_train, X_test, y_train, y_test = train_test_split(X,y, test_size = 0.2, random_state=0)\n",
        "\n",
        "# setting the dicision tree classifier\n",
        "\n",
        "# Modelling for training and predictions\n",
        "\n",
        "clf = KNeighborsClassifier(n_neighbors=3)\n",
        "clf = clf.fit(X_train, y_train)\n",
        "\n",
        "# predicting using the model built\n",
        "\n",
        "y_pred = clf.predict(X_test)\n",
        "\n",
        "# comparing the actual and predicted\n",
        "\n",
        "comparison_frame = pd.DataFrame({'Actual': y_test, 'Predicted': y_pred})\n",
        "\n",
        "comparison_frame.describe()\n",
        "# Evaluating the Algorithm\n",
        "# ---\n",
        "# \n",
        "from sklearn import metrics\n",
        "print('Mean Absolute Error:', metrics.mean_absolute_error(y_test, y_pred))\n",
        "print('Mean Squared Error:', metrics.mean_squared_error(y_test, y_pred))\n",
        "print('Root Mean Squared Error:', np.sqrt(metrics.mean_squared_error(y_test, y_pred)))\n",
        "print('The accuracy of the model is ',metrics.accuracy_score(y_test, y_pred))\n",
        "print('\\n', 'Confusion matrix')\n",
        "print(confusion_matrix(y_test, y_pred))\n",
        "print('\\n', 'Classification report')\n",
        "print(classification_report(y_test, y_pred))"
      ],
      "execution_count": null,
      "outputs": [
        {
          "output_type": "stream",
          "text": [
            "Mean Absolute Error: 0.3539325842696629\n",
            "Mean Squared Error: 0.3539325842696629\n",
            "Root Mean Squared Error: 0.5949223346535772\n",
            "The accuracy of the model is  0.6460674157303371\n",
            "\n",
            " Confusion matrix\n",
            "[[80 25]\n",
            " [38 35]]\n",
            "\n",
            " Classification report\n",
            "              precision    recall  f1-score   support\n",
            "\n",
            "           0       0.68      0.76      0.72       105\n",
            "           1       0.58      0.48      0.53        73\n",
            "\n",
            "    accuracy                           0.65       178\n",
            "   macro avg       0.63      0.62      0.62       178\n",
            "weighted avg       0.64      0.65      0.64       178\n",
            "\n"
          ],
          "name": "stdout"
        }
      ]
    },
    {
      "cell_type": "markdown",
      "metadata": {
        "id": "ADrYdGTo0Zr5"
      },
      "source": [
        "####KNN with Grid search Model - 80/20 split"
      ]
    },
    {
      "cell_type": "code",
      "metadata": {
        "colab": {
          "base_uri": "https://localhost:8080/"
        },
        "id": "qRHOiJqW0Fga",
        "outputId": "ee43b6b7-41b5-494e-9ec9-d63cda649c29"
      },
      "source": [
        "#Defining the hyper parameters for the Knearest Neighbors Classifier\n",
        "leaf_size = list(range(1,50))\n",
        "n_neighbors = list(range(1,30))\n",
        "p = [1,2]\n",
        "metric = ['manhattan', 'euclidean', 'minkowski']\n",
        "#Creating a dictionary with the hyperparameters\n",
        "hyperparameters = dict(leaf_size = leaf_size, n_neighbors = n_neighbors, p=p,metric = metric)\n",
        "\n",
        "#I used GridSearch to look for the best parameters\n",
        "from sklearn.model_selection import GridSearchCV\n",
        "\n",
        "classifier = KNeighborsClassifier()\n",
        "\n",
        "clf = GridSearchCV(classifier, hyperparameters,cv=10)\n",
        "clf = clf.fit(X_train, y_train)\n",
        "\n",
        "print('\\n')\n",
        "\n",
        "print(clf.best_params_)\n",
        "print('\\n')\n",
        "\n",
        "#Creating a better model based on the parameters given to us by the greadsearch\n",
        "modelone = KNeighborsClassifier(leaf_size = clf.best_params_['leaf_size'], n_neighbors = clf.best_params_['n_neighbors'], p = clf.best_params_['p'], metric = clf.best_params_['metric']).fit(X_train, y_train)\n",
        "modelone\n",
        "\n",
        "# predicting using the model built\n",
        "\n",
        "y_pred = modelone.predict(X_test)\n",
        "\n",
        "# comparing the actual and predicted\n",
        "\n",
        "comparison_frame = pd.DataFrame({'Actual': y_test, 'Predicted': y_pred})\n",
        "print('\\n')\n",
        "print(comparison_frame)\n",
        "print('\\n')\n",
        "print(comparison_frame.describe())\n",
        "# Evaluating the Algorithm\n",
        "# ---\n",
        "# \n",
        "from sklearn import metrics\n",
        "print('Mean Absolute Error:', metrics.mean_absolute_error(y_test, y_pred))\n",
        "print('Mean Squared Error:', metrics.mean_squared_error(y_test, y_pred))\n",
        "print('Root Mean Squared Error:', np.sqrt(metrics.mean_squared_error(y_test, y_pred)))\n",
        "print('The accuracy of the model is ',metrics.accuracy_score(y_test, y_pred))\n",
        "print('\\n', 'Confusion matrix')\n",
        "print(confusion_matrix(y_test, y_pred))\n",
        "print('\\n', 'Classification report')\n",
        "print(classification_report(y_test, y_pred))"
      ],
      "execution_count": null,
      "outputs": [
        {
          "output_type": "stream",
          "text": [
            "\n",
            "\n",
            "{'leaf_size': 40, 'metric': 'manhattan', 'n_neighbors': 3, 'p': 1}\n",
            "\n",
            "\n",
            "\n",
            "\n",
            "             Actual  Predicted\n",
            "PassengerId                   \n",
            "15                0          1\n",
            "160               0          0\n",
            "764               1          1\n",
            "742               0          1\n",
            "484               1          0\n",
            "...             ...        ...\n",
            "887               0          0\n",
            "674               1          0\n",
            "183               0          0\n",
            "633               1          0\n",
            "142               1          1\n",
            "\n",
            "[178 rows x 2 columns]\n",
            "\n",
            "\n",
            "       Actual  Predicted\n",
            "count  178.00     178.00\n",
            "mean     0.41       0.37\n",
            "std      0.49       0.48\n",
            "min      0.00       0.00\n",
            "25%      0.00       0.00\n",
            "50%      0.00       0.00\n",
            "75%      1.00       1.00\n",
            "max      1.00       1.00\n",
            "Mean Absolute Error: 0.33146067415730335\n",
            "Mean Squared Error: 0.33146067415730335\n",
            "Root Mean Squared Error: 0.5757262145823338\n",
            "The accuracy of the model is  0.6685393258426966\n",
            "\n",
            " Confusion matrix\n",
            "[[79 26]\n",
            " [33 40]]\n",
            "\n",
            " Classification report\n",
            "              precision    recall  f1-score   support\n",
            "\n",
            "           0       0.71      0.75      0.73       105\n",
            "           1       0.61      0.55      0.58        73\n",
            "\n",
            "    accuracy                           0.67       178\n",
            "   macro avg       0.66      0.65      0.65       178\n",
            "weighted avg       0.66      0.67      0.67       178\n",
            "\n"
          ],
          "name": "stdout"
        }
      ]
    },
    {
      "cell_type": "markdown",
      "metadata": {
        "id": "dDC4x46fAHi2"
      },
      "source": [
        "###Baseline Model - 70/30 split"
      ]
    },
    {
      "cell_type": "code",
      "metadata": {
        "colab": {
          "base_uri": "https://localhost:8080/"
        },
        "id": "e8nTYkrRAHi4",
        "outputId": "7af3a2b0-e486-4e2d-b671-2a632be09256"
      },
      "source": [
        "# split the data into labels and features\n",
        "\n",
        "X = df[['pclass', 'sex', 'age', 'sibsp', 'parch', 'fare','embarked']]\n",
        "y = df['survived']\n",
        "\n",
        "# standardizing the data\n",
        "from sklearn.preprocessing import StandardScaler\n",
        "\n",
        "scaler = StandardScaler()\n",
        "\n",
        "scaler.fit_transform(X)\n",
        "\n",
        "\n",
        "# splitting into train an test sets\n",
        "\n",
        "X_train, X_test, y_train, y_test = train_test_split(X,y, test_size = 0.3, random_state=0)\n",
        "\n",
        "# setting the dicision tree classifier\n",
        "\n",
        "# Modelling for training and predictions\n",
        "\n",
        "clf = KNeighborsClassifier(n_neighbors=3)\n",
        "clf = clf.fit(X_train, y_train)\n",
        "\n",
        "# predicting using the model built\n",
        "\n",
        "y_pred = clf.predict(X_test)\n",
        "\n",
        "# comparing the actual and predicted\n",
        "\n",
        "comparison_frame = pd.DataFrame({'Actual': y_test, 'Predicted': y_pred})\n",
        "\n",
        "comparison_frame.describe()\n",
        "# Evaluating the Algorithm\n",
        "# ---\n",
        "# \n",
        "from sklearn import metrics\n",
        "print('Mean Absolute Error:', metrics.mean_absolute_error(y_test, y_pred))\n",
        "print('Mean Squared Error:', metrics.mean_squared_error(y_test, y_pred))\n",
        "print('Root Mean Squared Error:', np.sqrt(metrics.mean_squared_error(y_test, y_pred)))\n",
        "print('The accuracy of the model is ',metrics.accuracy_score(y_test, y_pred))\n",
        "print('\\n', 'Confusion matrix')\n",
        "print(confusion_matrix(y_test, y_pred))\n",
        "print('\\n', 'Classification report')\n",
        "print(classification_report(y_test, y_pred))"
      ],
      "execution_count": null,
      "outputs": [
        {
          "output_type": "stream",
          "text": [
            "Mean Absolute Error: 0.3333333333333333\n",
            "Mean Squared Error: 0.3333333333333333\n",
            "Root Mean Squared Error: 0.5773502691896257\n",
            "The accuracy of the model is  0.6666666666666666\n",
            "\n",
            " Confusion matrix\n",
            "[[121  36]\n",
            " [ 53  57]]\n",
            "\n",
            " Classification report\n",
            "              precision    recall  f1-score   support\n",
            "\n",
            "           0       0.70      0.77      0.73       157\n",
            "           1       0.61      0.52      0.56       110\n",
            "\n",
            "    accuracy                           0.67       267\n",
            "   macro avg       0.65      0.64      0.65       267\n",
            "weighted avg       0.66      0.67      0.66       267\n",
            "\n"
          ],
          "name": "stdout"
        }
      ]
    },
    {
      "cell_type": "markdown",
      "metadata": {
        "id": "cSQzxgq52iDO"
      },
      "source": [
        "####KNN with Grid search Model - 70/30 split"
      ]
    },
    {
      "cell_type": "code",
      "metadata": {
        "colab": {
          "base_uri": "https://localhost:8080/"
        },
        "id": "IM2vucPS2iDZ",
        "outputId": "51438d24-cb9b-4cd2-d75c-0e31c258734c"
      },
      "source": [
        "#Defining the hyper parameters for the Knearest Neighbors Classifier\n",
        "leaf_size = list(range(1,50))\n",
        "n_neighbors = list(range(1,30))\n",
        "p = [1,2]\n",
        "metric = ['manhattan', 'euclidean', 'minkowski']\n",
        "#Creating a dictionary with the hyperparameters\n",
        "hyperparameters = dict(leaf_size = leaf_size, n_neighbors = n_neighbors, p=p,metric = metric)\n",
        "\n",
        "#I used GridSearch to look for the best parameters\n",
        "from sklearn.model_selection import GridSearchCV\n",
        "\n",
        "classifier = KNeighborsClassifier()\n",
        "\n",
        "clf = GridSearchCV(classifier, hyperparameters,cv=10)\n",
        "clf = clf.fit(X_train, y_train)\n",
        "\n",
        "print('\\n')\n",
        "\n",
        "print(clf.best_params_)\n",
        "print('\\n')\n",
        "clf = clf.fit(X_train, y_train)\n",
        "\n",
        "# predicting using the model built\n",
        "\n",
        "y_pred = clf.predict(X_test)\n",
        "\n",
        "# comparing the actual and predicted\n",
        "\n",
        "comparison_frame = pd.DataFrame({'Actual': y_test, 'Predicted': y_pred})\n",
        "print(comparison_frame)\n",
        "comparison_frame.describe()\n",
        "# Evaluating the Algorithm\n",
        "# ---\n",
        "# \n",
        "from sklearn import metrics\n",
        "print('Mean Absolute Error:', metrics.mean_absolute_error(y_test, y_pred))\n",
        "print('Mean Squared Error:', metrics.mean_squared_error(y_test, y_pred))\n",
        "print('Root Mean Squared Error:', np.sqrt(metrics.mean_squared_error(y_test, y_pred)))\n",
        "print('The accuracy of the model is ',metrics.accuracy_score(y_test, y_pred))\n",
        "print('\\n', 'Confusion matrix')\n",
        "print(confusion_matrix(y_test, y_pred))\n",
        "print('\\n', 'Classification report')\n",
        "print(classification_report(y_test, y_pred))"
      ],
      "execution_count": null,
      "outputs": [
        {
          "output_type": "stream",
          "text": [
            "             Actual  Predicted\n",
            "PassengerId                   \n",
            "15                0          1\n",
            "160               0          0\n",
            "764               1          1\n",
            "742               0          1\n",
            "484               1          0\n",
            "...             ...        ...\n",
            "621               0          0\n",
            "822               1          0\n",
            "66                1          0\n",
            "885               0          0\n",
            "53                1          1\n",
            "\n",
            "[267 rows x 2 columns]\n",
            "Mean Absolute Error: 0.299625468164794\n",
            "Mean Squared Error: 0.299625468164794\n",
            "Root Mean Squared Error: 0.5473805515039734\n",
            "The accuracy of the model is  0.700374531835206\n",
            "\n",
            " Confusion matrix\n",
            "[[123  34]\n",
            " [ 46  64]]\n",
            "\n",
            " Classification report\n",
            "              precision    recall  f1-score   support\n",
            "\n",
            "           0       0.73      0.78      0.75       157\n",
            "           1       0.65      0.58      0.62       110\n",
            "\n",
            "    accuracy                           0.70       267\n",
            "   macro avg       0.69      0.68      0.68       267\n",
            "weighted avg       0.70      0.70      0.70       267\n",
            "\n"
          ],
          "name": "stdout"
        }
      ]
    },
    {
      "cell_type": "markdown",
      "metadata": {
        "id": "X65Mst652iDd"
      },
      "source": [
        "###Baseline Model - 60/40 split"
      ]
    },
    {
      "cell_type": "code",
      "metadata": {
        "colab": {
          "base_uri": "https://localhost:8080/"
        },
        "id": "PfqnCi_O2iDe",
        "outputId": "58095075-2876-4e31-8022-fe41c72114d6"
      },
      "source": [
        "# split the data into labels and features\n",
        "\n",
        "X = df[['pclass', 'sex', 'age', 'sibsp', 'parch', 'fare','embarked']]\n",
        "y = df['survived']\n",
        "\n",
        "\n",
        "# standardizing the data\n",
        "from sklearn.preprocessing import StandardScaler\n",
        "\n",
        "scaler = StandardScaler()\n",
        "\n",
        "scaler.fit_transform(X)\n",
        "\n",
        "\n",
        "# splitting into train an test sets\n",
        "\n",
        "X_train, X_test, y_train, y_test = train_test_split(X,y, test_size = 0.4, random_state=0)\n",
        "\n",
        "# setting the dicision tree classifier\n",
        "\n",
        "# Modelling for training and predictions\n",
        "\n",
        "clf = KNeighborsClassifier(n_neighbors=3)\n",
        "clf = clf.fit(X_train, y_train)\n",
        "\n",
        "# predicting using the model built\n",
        "\n",
        "y_pred = clf.predict(X_test)\n",
        "\n",
        "# comparing the actual and predicted\n",
        "\n",
        "comparison_frame = pd.DataFrame({'Actual': y_test, 'Predicted': y_pred})\n",
        "\n",
        "comparison_frame.describe()\n",
        "# Evaluating the Algorithm\n",
        "# ---\n",
        "# \n",
        "from sklearn import metrics\n",
        "print('Mean Absolute Error:', metrics.mean_absolute_error(y_test, y_pred))\n",
        "print('Mean Squared Error:', metrics.mean_squared_error(y_test, y_pred))\n",
        "print('Root Mean Squared Error:', np.sqrt(metrics.mean_squared_error(y_test, y_pred)))\n",
        "print('The accuracy of the model is ',metrics.accuracy_score(y_test, y_pred))\n",
        "print('\\n', 'Confusion matrix')\n",
        "print(confusion_matrix(y_test, y_pred))\n",
        "print('\\n', 'Classification report')\n",
        "print(classification_report(y_test, y_pred))"
      ],
      "execution_count": null,
      "outputs": [
        {
          "output_type": "stream",
          "text": [
            "Mean Absolute Error: 0.32303370786516855\n",
            "Mean Squared Error: 0.32303370786516855\n",
            "Root Mean Squared Error: 0.5683605439025201\n",
            "The accuracy of the model is  0.6769662921348315\n",
            "\n",
            " Confusion matrix\n",
            "[[166  50]\n",
            " [ 65  75]]\n",
            "\n",
            " Classification report\n",
            "              precision    recall  f1-score   support\n",
            "\n",
            "           0       0.72      0.77      0.74       216\n",
            "           1       0.60      0.54      0.57       140\n",
            "\n",
            "    accuracy                           0.68       356\n",
            "   macro avg       0.66      0.65      0.65       356\n",
            "weighted avg       0.67      0.68      0.67       356\n",
            "\n"
          ],
          "name": "stdout"
        }
      ]
    },
    {
      "cell_type": "markdown",
      "metadata": {
        "id": "imt82-H43moy"
      },
      "source": [
        "####KNN with Grid search Model - 60/40 split"
      ]
    },
    {
      "cell_type": "code",
      "metadata": {
        "colab": {
          "base_uri": "https://localhost:8080/"
        },
        "id": "PHYVTIAl3moz",
        "outputId": "a000c257-d496-4c91-b633-61680f2edb64"
      },
      "source": [
        "#Defining the hyper parameters for the Knearest Neighbors Classifier\n",
        "leaf_size = list(range(1,50))\n",
        "n_neighbors = list(range(1,30))\n",
        "p = [1,2]\n",
        "metric = ['manhattan', 'euclidean', 'minkowski']\n",
        "#Creating a dictionary with the hyperparameters\n",
        "hyperparameters = dict(leaf_size = leaf_size, n_neighbors = n_neighbors, p=p,metric = metric)\n",
        "\n",
        "#I used GridSearch to look for the best parameters\n",
        "from sklearn.model_selection import GridSearchCV\n",
        "\n",
        "classifier = KNeighborsClassifier()\n",
        "\n",
        "clf = GridSearchCV(classifier, hyperparameters,cv=10)\n",
        "clf = clf.fit(X_train, y_train)\n",
        "\n",
        "print('\\n')\n",
        "\n",
        "print(clf.best_params_)\n",
        "print('\\n')\n",
        "\n",
        "#Creating a better model based on the parameters given to us by the greadsearch\n",
        "\n",
        "modelthree = KNeighborsClassifier(leaf_size = clf.best_params_['leaf_size'], n_neighbors = clf.best_params_['n_neighbors'], p = clf.best_params_['p'], metric = clf.best_params_['metric']).fit(X_train, y_train)\n",
        "modelthree\n",
        "\n",
        "# predicting using the model built\n",
        "\n",
        "y_pred = modelone.predict(X_test)\n",
        "\n",
        "# comparing the actual and predicted\n",
        "\n",
        "comparison_frame = pd.DataFrame({'Actual': y_test, 'Predicted': y_pred})\n",
        "print('\\n')\n",
        "print(comparison_frame)\n",
        "print('\\n')\n",
        "print(comparison_frame.describe())\n",
        "# Evaluating the Algorithm\n",
        "# ---\n",
        "# \n",
        "from sklearn import metrics\n",
        "print('Mean Absolute Error:', metrics.mean_absolute_error(y_test, y_pred))\n",
        "print('Mean Squared Error:', metrics.mean_squared_error(y_test, y_pred))\n",
        "print('Root Mean Squared Error:', np.sqrt(metrics.mean_squared_error(y_test, y_pred)))\n",
        "print('The accuracy of the model is ',metrics.accuracy_score(y_test, y_pred))\n",
        "print('\\n', 'Confusion matrix')\n",
        "print(confusion_matrix(y_test, y_pred))\n",
        "print('\\n', 'Classification report')\n",
        "print(classification_report(y_test, y_pred))"
      ],
      "execution_count": null,
      "outputs": [
        {
          "output_type": "stream",
          "text": [
            "\n",
            "\n",
            "{'leaf_size': 1, 'metric': 'manhattan', 'n_neighbors': 10, 'p': 1}\n",
            "\n",
            "\n",
            "\n",
            "\n",
            "             Actual  Predicted\n",
            "PassengerId                   \n",
            "15                0          1\n",
            "160               0          0\n",
            "764               1          1\n",
            "742               0          1\n",
            "484               1          0\n",
            "...             ...        ...\n",
            "840               1          1\n",
            "821               1          1\n",
            "102               0          0\n",
            "705               0          0\n",
            "740               0          0\n",
            "\n",
            "[356 rows x 2 columns]\n",
            "\n",
            "\n",
            "       Actual  Predicted\n",
            "count  356.00     356.00\n",
            "mean     0.39       0.36\n",
            "std      0.49       0.48\n",
            "min      0.00       0.00\n",
            "25%      0.00       0.00\n",
            "50%      0.00       0.00\n",
            "75%      1.00       1.00\n",
            "max      1.00       1.00\n",
            "Mean Absolute Error: 0.22752808988764045\n",
            "Mean Squared Error: 0.22752808988764045\n",
            "Root Mean Squared Error: 0.47699904600286197\n",
            "The accuracy of the model is  0.7724719101123596\n",
            "\n",
            " Confusion matrix\n",
            "[[181  35]\n",
            " [ 46  94]]\n",
            "\n",
            " Classification report\n",
            "              precision    recall  f1-score   support\n",
            "\n",
            "           0       0.80      0.84      0.82       216\n",
            "           1       0.73      0.67      0.70       140\n",
            "\n",
            "    accuracy                           0.77       356\n",
            "   macro avg       0.76      0.75      0.76       356\n",
            "weighted avg       0.77      0.77      0.77       356\n",
            "\n"
          ],
          "name": "stdout"
        }
      ]
    },
    {
      "cell_type": "markdown",
      "metadata": {
        "id": "_BZjswB12iDf"
      },
      "source": [
        "###Baseline Model - Using the test data provided"
      ]
    },
    {
      "cell_type": "code",
      "metadata": {
        "colab": {
          "base_uri": "https://localhost:8080/"
        },
        "id": "FZSf9Ash2iDf",
        "outputId": "5e8fc1cc-a528-4471-c632-2b06ad35d440"
      },
      "source": [
        "# convert the dataframe to a list\n",
        "test_=test.values.tolist()\n",
        "\n",
        "# predict using the test dataset\n",
        "y_pred = modelthree.predict(test_)\n",
        "\n",
        "#Adding the predicted values to our dataset\n",
        "test['Survived'] = y_pred\n",
        "test.sample(10)\n"
      ],
      "execution_count": null,
      "outputs": [
        {
          "output_type": "execute_result",
          "data": {
            "text/html": [
              "<div>\n",
              "<style scoped>\n",
              "    .dataframe tbody tr th:only-of-type {\n",
              "        vertical-align: middle;\n",
              "    }\n",
              "\n",
              "    .dataframe tbody tr th {\n",
              "        vertical-align: top;\n",
              "    }\n",
              "\n",
              "    .dataframe thead th {\n",
              "        text-align: right;\n",
              "    }\n",
              "</style>\n",
              "<table border=\"1\" class=\"dataframe\">\n",
              "  <thead>\n",
              "    <tr style=\"text-align: right;\">\n",
              "      <th></th>\n",
              "      <th>pclass</th>\n",
              "      <th>sex</th>\n",
              "      <th>age</th>\n",
              "      <th>sibsp</th>\n",
              "      <th>parch</th>\n",
              "      <th>fare</th>\n",
              "      <th>embarked</th>\n",
              "      <th>Survived</th>\n",
              "    </tr>\n",
              "    <tr>\n",
              "      <th>PassengerId</th>\n",
              "      <th></th>\n",
              "      <th></th>\n",
              "      <th></th>\n",
              "      <th></th>\n",
              "      <th></th>\n",
              "      <th></th>\n",
              "      <th></th>\n",
              "      <th></th>\n",
              "    </tr>\n",
              "  </thead>\n",
              "  <tbody>\n",
              "    <tr>\n",
              "      <th>1052</th>\n",
              "      <td>3</td>\n",
              "      <td>1</td>\n",
              "      <td>30.27</td>\n",
              "      <td>0</td>\n",
              "      <td>0</td>\n",
              "      <td>7.73</td>\n",
              "      <td>0</td>\n",
              "      <td>1</td>\n",
              "    </tr>\n",
              "    <tr>\n",
              "      <th>1233</th>\n",
              "      <td>3</td>\n",
              "      <td>0</td>\n",
              "      <td>32.00</td>\n",
              "      <td>0</td>\n",
              "      <td>0</td>\n",
              "      <td>7.58</td>\n",
              "      <td>1</td>\n",
              "      <td>0</td>\n",
              "    </tr>\n",
              "    <tr>\n",
              "      <th>1095</th>\n",
              "      <td>2</td>\n",
              "      <td>1</td>\n",
              "      <td>8.00</td>\n",
              "      <td>1</td>\n",
              "      <td>1</td>\n",
              "      <td>26.00</td>\n",
              "      <td>1</td>\n",
              "      <td>1</td>\n",
              "    </tr>\n",
              "    <tr>\n",
              "      <th>1097</th>\n",
              "      <td>1</td>\n",
              "      <td>0</td>\n",
              "      <td>30.27</td>\n",
              "      <td>0</td>\n",
              "      <td>0</td>\n",
              "      <td>25.74</td>\n",
              "      <td>2</td>\n",
              "      <td>0</td>\n",
              "    </tr>\n",
              "    <tr>\n",
              "      <th>1003</th>\n",
              "      <td>3</td>\n",
              "      <td>1</td>\n",
              "      <td>30.27</td>\n",
              "      <td>0</td>\n",
              "      <td>0</td>\n",
              "      <td>7.78</td>\n",
              "      <td>0</td>\n",
              "      <td>1</td>\n",
              "    </tr>\n",
              "    <tr>\n",
              "      <th>926</th>\n",
              "      <td>1</td>\n",
              "      <td>0</td>\n",
              "      <td>30.00</td>\n",
              "      <td>1</td>\n",
              "      <td>0</td>\n",
              "      <td>57.75</td>\n",
              "      <td>2</td>\n",
              "      <td>1</td>\n",
              "    </tr>\n",
              "    <tr>\n",
              "      <th>1106</th>\n",
              "      <td>3</td>\n",
              "      <td>1</td>\n",
              "      <td>38.00</td>\n",
              "      <td>4</td>\n",
              "      <td>2</td>\n",
              "      <td>7.78</td>\n",
              "      <td>1</td>\n",
              "      <td>0</td>\n",
              "    </tr>\n",
              "    <tr>\n",
              "      <th>1004</th>\n",
              "      <td>1</td>\n",
              "      <td>1</td>\n",
              "      <td>36.00</td>\n",
              "      <td>0</td>\n",
              "      <td>0</td>\n",
              "      <td>31.68</td>\n",
              "      <td>2</td>\n",
              "      <td>1</td>\n",
              "    </tr>\n",
              "    <tr>\n",
              "      <th>1200</th>\n",
              "      <td>1</td>\n",
              "      <td>0</td>\n",
              "      <td>55.00</td>\n",
              "      <td>1</td>\n",
              "      <td>1</td>\n",
              "      <td>93.50</td>\n",
              "      <td>1</td>\n",
              "      <td>0</td>\n",
              "    </tr>\n",
              "    <tr>\n",
              "      <th>1159</th>\n",
              "      <td>3</td>\n",
              "      <td>0</td>\n",
              "      <td>30.27</td>\n",
              "      <td>0</td>\n",
              "      <td>0</td>\n",
              "      <td>7.55</td>\n",
              "      <td>1</td>\n",
              "      <td>0</td>\n",
              "    </tr>\n",
              "  </tbody>\n",
              "</table>\n",
              "</div>"
            ],
            "text/plain": [
              "             pclass  sex   age  sibsp  parch  fare  embarked  Survived\n",
              "PassengerId                                                           \n",
              "1052              3    1 30.27      0      0  7.73         0         1\n",
              "1233              3    0 32.00      0      0  7.58         1         0\n",
              "1095              2    1  8.00      1      1 26.00         1         1\n",
              "1097              1    0 30.27      0      0 25.74         2         0\n",
              "1003              3    1 30.27      0      0  7.78         0         1\n",
              "926               1    0 30.00      1      0 57.75         2         1\n",
              "1106              3    1 38.00      4      2  7.78         1         0\n",
              "1004              1    1 36.00      0      0 31.68         2         1\n",
              "1200              1    0 55.00      1      1 93.50         1         0\n",
              "1159              3    0 30.27      0      0  7.55         1         0"
            ]
          },
          "metadata": {
            "tags": []
          },
          "execution_count": 128
        }
      ]
    },
    {
      "cell_type": "code",
      "metadata": {
        "colab": {
          "base_uri": "https://localhost:8080/"
        },
        "id": "tce6jACFPmKd",
        "outputId": "3c3a8c31-31bc-41cd-deda-0469fbcbc025"
      },
      "source": [
        "test.Survived.value_counts()"
      ],
      "execution_count": null,
      "outputs": [
        {
          "output_type": "execute_result",
          "data": {
            "text/plain": [
              "0    296\n",
              "1    121\n",
              "Name: Survived, dtype: int64"
            ]
          },
          "metadata": {
            "tags": []
          },
          "execution_count": 129
        }
      ]
    },
    {
      "cell_type": "markdown",
      "metadata": {
        "id": "8fXRgZnw_X77"
      },
      "source": [
        "##7. Conclusion"
      ]
    },
    {
      "cell_type": "code",
      "metadata": {
        "colab": {
          "base_uri": "https://localhost:8080/",
          "height": 244
        },
        "id": "QQVOz6J0-euv",
        "outputId": "1bf4e407-36f0-4c60-f5df-28b5de2536ab"
      },
      "source": [
        "# Lets compare the performance of our different models\n",
        "\n",
        "# initialize list of lists\n",
        "data = ['Baseline Model 80/20 split',  0.3539325842696629, 0.3539325842696629, 0.5949223346535772, '64.6%'], ['with Grid search Model - 80/20 split', 0.33146067415730335, 0.33146067415730335, 0.5757262145823338, '66.9%'], ['Baseline Model 70/30 split',  0.3333333333333333, 0.3333333333333333, 0.5773502691896257, '67.0%'], ['with Grid search Model - 70/30 split', 0.299625468164794, 0.299625468164794, 0.5473805515039734, '70%'], ['Baseline Model 60/40 split',  0.32303370786516855, 0.32303370786516855, 0.5683605439025201, '67.7%'], ['with Grid search Model - 60/40 split', 0.22752808988764045, 0.22752808988764045, 0.47699904600286197, '77%']\n",
        " \n",
        "# Create the pandas DataFrame\n",
        "\n",
        "df = pd.DataFrame(data, columns = ['Model_Name','Mean Absolute Error', 'Mean Squared Error','Root Mean Squared Error','Accuracy'])\n",
        " \n",
        "# print dataframe.\n",
        "print(df )"
      ],
      "execution_count": 1,
      "outputs": [
        {
          "output_type": "error",
          "ename": "NameError",
          "evalue": "ignored",
          "traceback": [
            "\u001b[0;31m---------------------------------------------------------------------------\u001b[0m",
            "\u001b[0;31mNameError\u001b[0m                                 Traceback (most recent call last)",
            "\u001b[0;32m<ipython-input-1-00c6114ef242>\u001b[0m in \u001b[0;36m<module>\u001b[0;34m()\u001b[0m\n\u001b[1;32m      6\u001b[0m \u001b[0;31m# Create the pandas DataFrame\u001b[0m\u001b[0;34m\u001b[0m\u001b[0;34m\u001b[0m\u001b[0;34m\u001b[0m\u001b[0m\n\u001b[1;32m      7\u001b[0m \u001b[0;34m\u001b[0m\u001b[0m\n\u001b[0;32m----> 8\u001b[0;31m \u001b[0mdf\u001b[0m \u001b[0;34m=\u001b[0m \u001b[0mpd\u001b[0m\u001b[0;34m.\u001b[0m\u001b[0mDataFrame\u001b[0m\u001b[0;34m(\u001b[0m\u001b[0mdata\u001b[0m\u001b[0;34m,\u001b[0m \u001b[0mcolumns\u001b[0m \u001b[0;34m=\u001b[0m \u001b[0;34m[\u001b[0m\u001b[0;34m'Model_Name'\u001b[0m\u001b[0;34m,\u001b[0m\u001b[0;34m'Mean Absolute Error'\u001b[0m\u001b[0;34m,\u001b[0m \u001b[0;34m'Mean Squared Error'\u001b[0m\u001b[0;34m,\u001b[0m\u001b[0;34m'Root Mean Squared Error'\u001b[0m\u001b[0;34m,\u001b[0m\u001b[0;34m'Accuracy'\u001b[0m\u001b[0;34m]\u001b[0m\u001b[0;34m)\u001b[0m\u001b[0;34m\u001b[0m\u001b[0;34m\u001b[0m\u001b[0m\n\u001b[0m\u001b[1;32m      9\u001b[0m \u001b[0;34m\u001b[0m\u001b[0m\n\u001b[1;32m     10\u001b[0m \u001b[0;31m# print dataframe.\u001b[0m\u001b[0;34m\u001b[0m\u001b[0;34m\u001b[0m\u001b[0;34m\u001b[0m\u001b[0m\n",
            "\u001b[0;31mNameError\u001b[0m: name 'pd' is not defined"
          ]
        }
      ]
    },
    {
      "cell_type": "code",
      "metadata": {
        "id": "ESPMN2qIBXnd",
        "colab": {
          "base_uri": "https://localhost:8080/",
          "height": 135
        },
        "outputId": "5b69bcd9-4039-49c7-f2bf-67fa6db0e1e3"
      },
      "source": [
        "Mean Absolute Error: 0.22752808988764045\n",
        "Mean Squared Error: 0.22752808988764045\n",
        "Root Mean Squared Error: 0.47699904600286197\n",
        "The accuracy of the model is  0.7724719101123596"
      ],
      "execution_count": 2,
      "outputs": [
        {
          "output_type": "error",
          "ename": "SyntaxError",
          "evalue": "ignored",
          "traceback": [
            "\u001b[0;36m  File \u001b[0;32m\"<ipython-input-2-5b2045e9a2ca>\"\u001b[0;36m, line \u001b[0;32m1\u001b[0m\n\u001b[0;31m    Mean Absolute Error: 0.22752808988764045\u001b[0m\n\u001b[0m                ^\u001b[0m\n\u001b[0;31mSyntaxError\u001b[0m\u001b[0;31m:\u001b[0m invalid syntax\n"
          ]
        }
      ]
    },
    {
      "cell_type": "code",
      "metadata": {
        "id": "yJA5kkd0_315"
      },
      "source": [
        "model_compare = pd.DataFrame(df )  #pd. DataFrame(np_array, columns=['Column1', 'Column2']) \n",
        "model_compare.set_index('Model_Name')"
      ],
      "execution_count": null,
      "outputs": []
    },
    {
      "cell_type": "markdown",
      "metadata": {
        "id": "5Hrj2RDlse8W"
      },
      "source": [
        "As per the table above, the best performing model was the Grid Search model with 60/40 train test split. scoring an accuracy of 77%\n",
        "\n",
        "I was not able to achieve my metric of success of 80%. But my best model cuts closen at an accuracy of 77%.\n",
        "\n",
        "The least performing model was the base model with the 80/20 Split. which is interesting cause I had expected that with a larger training dataset, the higher the accuracy you could expect\n",
        "\n",
        "None of the models passed my metric of success of an accuracy level of above 80%\n"
      ]
    },
    {
      "cell_type": "code",
      "metadata": {
        "id": "tME3VjEQu6w8"
      },
      "source": [
        ""
      ],
      "execution_count": null,
      "outputs": []
    }
  ]
}